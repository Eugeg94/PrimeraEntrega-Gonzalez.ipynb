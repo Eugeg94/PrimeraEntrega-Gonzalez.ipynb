{
  "cells": [
    {
      "cell_type": "markdown",
      "metadata": {
        "id": "view-in-github",
        "colab_type": "text"
      },
      "source": [
        "<a href=\"https://colab.research.google.com/github/Eugeg94/PrimeraEntrega-Gonzalez.ipynb/blob/main/Desafio_EvaluacionML_%2BMARIAEUGENIA_%2BGonzalez.ipynb\" target=\"_parent\"><img src=\"https://colab.research.google.com/assets/colab-badge.svg\" alt=\"Open In Colab\"/></a>"
      ]
    },
    {
      "cell_type": "code",
      "execution_count": 1,
      "metadata": {
        "id": "8c7pvAl0vAFV",
        "colab": {
          "base_uri": "https://localhost:8080/"
        },
        "outputId": "708ee641-d144-4f09-901c-934d522bb8f6"
      },
      "outputs": [
        {
          "output_type": "stream",
          "name": "stdout",
          "text": [
            "Requirement already satisfied: scipy in /usr/local/lib/python3.10/dist-packages (1.10.1)\n",
            "Requirement already satisfied: numpy<1.27.0,>=1.19.5 in /usr/local/lib/python3.10/dist-packages (from scipy) (1.22.4)\n",
            "Requirement already satisfied: matplotlib-venn in /usr/local/lib/python3.10/dist-packages (0.11.9)\n",
            "Requirement already satisfied: matplotlib in /usr/local/lib/python3.10/dist-packages (from matplotlib-venn) (3.7.1)\n",
            "Requirement already satisfied: numpy in /usr/local/lib/python3.10/dist-packages (from matplotlib-venn) (1.22.4)\n",
            "Requirement already satisfied: scipy in /usr/local/lib/python3.10/dist-packages (from matplotlib-venn) (1.10.1)\n",
            "Requirement already satisfied: contourpy>=1.0.1 in /usr/local/lib/python3.10/dist-packages (from matplotlib->matplotlib-venn) (1.1.0)\n",
            "Requirement already satisfied: cycler>=0.10 in /usr/local/lib/python3.10/dist-packages (from matplotlib->matplotlib-venn) (0.11.0)\n",
            "Requirement already satisfied: fonttools>=4.22.0 in /usr/local/lib/python3.10/dist-packages (from matplotlib->matplotlib-venn) (4.40.0)\n",
            "Requirement already satisfied: kiwisolver>=1.0.1 in /usr/local/lib/python3.10/dist-packages (from matplotlib->matplotlib-venn) (1.4.4)\n",
            "Requirement already satisfied: packaging>=20.0 in /usr/local/lib/python3.10/dist-packages (from matplotlib->matplotlib-venn) (23.1)\n",
            "Requirement already satisfied: pillow>=6.2.0 in /usr/local/lib/python3.10/dist-packages (from matplotlib->matplotlib-venn) (8.4.0)\n",
            "Requirement already satisfied: pyparsing>=2.3.1 in /usr/local/lib/python3.10/dist-packages (from matplotlib->matplotlib-venn) (3.1.0)\n",
            "Requirement already satisfied: python-dateutil>=2.7 in /usr/local/lib/python3.10/dist-packages (from matplotlib->matplotlib-venn) (2.8.2)\n",
            "Requirement already satisfied: six>=1.5 in /usr/local/lib/python3.10/dist-packages (from python-dateutil>=2.7->matplotlib->matplotlib-venn) (1.16.0)\n"
          ]
        }
      ],
      "source": [
        "import pandas as pd\n",
        "import matplotlib.pyplot as plt\n",
        "import json\n",
        "import requests\n",
        "import seaborn as sns\n",
        "import numpy\n",
        "import sklearn\n",
        "%pip install scipy\n",
        "!pip install matplotlib-venn\n",
        "from plotnine.data import mpg\n",
        "from plotnine import ggplot, aes, labs, geom_point"
      ]
    },
    {
      "cell_type": "markdown",
      "source": [
        "#INTRODUCCIÓN\n"
      ],
      "metadata": {
        "id": "_ZoNg-k5FrDv"
      }
    },
    {
      "cell_type": "markdown",
      "source": [
        "**Contexto empresarial.** WBL son  informes semestrales que miden las diferencias de género en la ley. Los puntajes del índice WBL se basan en el promedio de los puntajes de cada economía para los 8 temas incluidos en el puntaje agregado de este año. Una puntuación más alta indica más leyes de igualdad de género, desde la perspectiva de la movilidad, maternidad, pago, emprendedurismo, matrimonio, etc\n",
        "Nos planteamos distintas hipotesis a desarrollar.\n",
        "Desde el Banco Mundial han solicitado un análisis del desarrollo de los Derechos de Mujeres a nivel mundial, para así lograr marcar el campo de acciones presentes y futuras para llegar a una verdadera igualdad."
      ],
      "metadata": {
        "id": "edYuW1OvGAcU"
      }
    },
    {
      "cell_type": "markdown",
      "source": [
        "**Problema comercial.** La tarea consiste en manipular y analizar los datos proporcionados y por medio de  visualizaciones responder  las preguntas específicas, que se mencionan a continuación."
      ],
      "metadata": {
        "id": "lhgR7AlQGDb_"
      }
    },
    {
      "cell_type": "markdown",
      "source": [
        "**Contexto analítico.** Se le proporciona un archivo Excel y  Realizará las siguientes tareas con los datos:\n",
        "\n",
        "1. Leer, transformar y preparar datos para su visualización\n",
        "2. Realizar análisis y construir visualizaciones de los datos para identificar patrones en el conjunto de datos.\n",
        "        \n",
        "El cliente tiene un conjunto específico de preguntas a las que le gustaría obtener respuestas. Deberá proporcionar visualizaciones para acompañar estos:\n",
        "\n",
        "1. ¿Que paises son los que han evolucionado más en el campo de Derechos de Mujeres?\n",
        "2. ¿Tiene relación la clase social con el Desarrollo de Derechos?\n",
        "3. Con respecto a la movilidad ¿Las mujeres han ganado más derechos?\n",
        "4. ¿Tienen los hombres y las mujeres los mismos derechos de propiedad sobre los bienes inmuebles?\n",
        "5. Con respecto a la Libertad Economica ¿Ha habido una evolución favorecedora?  \n",
        "6. ¿La edad a la que hombres y mujeres pueden jubilarse con pensión completa es la misma?\n"
      ],
      "metadata": {
        "id": "Ka7HrjCjGG6K"
      }
    },
    {
      "cell_type": "markdown",
      "source": [
        "# Obtención de Datos"
      ],
      "metadata": {
        "id": "-682QGoSN-Xt"
      }
    },
    {
      "cell_type": "markdown",
      "source": [
        "Se ha solicitado un analisis de los indices WBL que se adjuntarán desde el drive."
      ],
      "metadata": {
        "id": "PgzLeI1GPM6A"
      }
    },
    {
      "cell_type": "code",
      "source": [
        "df1= pd.read_excel(\"/content/drive/MyDrive/Datasetwl.xlsx\")"
      ],
      "metadata": {
        "id": "tUkuJFkePBYA"
      },
      "execution_count": 2,
      "outputs": []
    },
    {
      "cell_type": "markdown",
      "source": [
        "#  FEATURING de Datos"
      ],
      "metadata": {
        "id": "jVBzx7qnPmBj"
      }
    },
    {
      "cell_type": "code",
      "execution_count": 3,
      "metadata": {
        "colab": {
          "base_uri": "https://localhost:8080/",
          "height": 595
        },
        "id": "inSl3dhUwvcC",
        "outputId": "6ff8b351-a1d0-46d3-a966-30ac985d5964"
      },
      "outputs": [
        {
          "output_type": "execute_result",
          "data": {
            "text/plain": [
              "       Economy Economy Code ISO Code      Region Income Group  Report Year  \\\n",
              "0  Afghanistan          AFG      AFG  South Asia   Low income         1971   \n",
              "1  Afghanistan          AFG      AFG  South Asia   Low income         1972   \n",
              "2  Afghanistan          AFG      AFG  South Asia   Low income         1973   \n",
              "3  Afghanistan          AFG      AFG  South Asia   Low income         1974   \n",
              "4  Afghanistan          AFG      AFG  South Asia   Low income         1975   \n",
              "\n",
              "   WBL INDEX  MOBILITY  \\\n",
              "0      26.25        25   \n",
              "1      26.25        25   \n",
              "2      26.25        25   \n",
              "3      26.25        25   \n",
              "4      26.25        25   \n",
              "\n",
              "  Can a woman choose where to live in the same way as a man?  \\\n",
              "0                                                 No           \n",
              "1                                                 No           \n",
              "2                                                 No           \n",
              "3                                                 No           \n",
              "4                                                 No           \n",
              "\n",
              "  Can a woman travel outside her home in the same way as a man?  ...  \\\n",
              "0                                                 No             ...   \n",
              "1                                                 No             ...   \n",
              "2                                                 No             ...   \n",
              "3                                                 No             ...   \n",
              "4                                                 No             ...   \n",
              "\n",
              "  Do men and women have equal ownership rights to immovable property?  \\\n",
              "0                                                Yes                    \n",
              "1                                                Yes                    \n",
              "2                                                Yes                    \n",
              "3                                                Yes                    \n",
              "4                                                Yes                    \n",
              "\n",
              "  Do sons and daughters have equal rights to inherit assets from their parents?  \\\n",
              "0                                                 No                              \n",
              "1                                                 No                              \n",
              "2                                                 No                              \n",
              "3                                                 No                              \n",
              "4                                                 No                              \n",
              "\n",
              "   Do male and female surviving spouses have equal rights to inherit assets?  \\\n",
              "0                                                 No                           \n",
              "1                                                 No                           \n",
              "2                                                 No                           \n",
              "3                                                 No                           \n",
              "4                                                 No                           \n",
              "\n",
              "  Does the law grant spouses equal administrative authority over assets during marriage?  \\\n",
              "0                                                Yes                                       \n",
              "1                                                Yes                                       \n",
              "2                                                Yes                                       \n",
              "3                                                Yes                                       \n",
              "4                                                Yes                                       \n",
              "\n",
              "  Does the law provide for the valuation of nonmonetary contributions?  \\\n",
              "0                                                 No                     \n",
              "1                                                 No                     \n",
              "2                                                 No                     \n",
              "3                                                 No                     \n",
              "4                                                 No                     \n",
              "\n",
              "  PENSION  \\\n",
              "0      25   \n",
              "1      25   \n",
              "2      25   \n",
              "3      25   \n",
              "4      25   \n",
              "\n",
              "  Is the age at which men and women can retire with full pension benefits the same?  \\\n",
              "0                                                 No                                  \n",
              "1                                                 No                                  \n",
              "2                                                 No                                  \n",
              "3                                                 No                                  \n",
              "4                                                 No                                  \n",
              "\n",
              "   Is the age at which men and women can retire with partial pension benefits the same?  \\\n",
              "0                                                 No                                      \n",
              "1                                                 No                                      \n",
              "2                                                 No                                      \n",
              "3                                                 No                                      \n",
              "4                                                 No                                      \n",
              "\n",
              "  Is the mandatory retirement age for men and women the same?  \\\n",
              "0                                                Yes            \n",
              "1                                                Yes            \n",
              "2                                                Yes            \n",
              "3                                                Yes            \n",
              "4                                                Yes            \n",
              "\n",
              "  Are periods of absence due to childcare accounted for in pension benefits?  \n",
              "0                                                 No                          \n",
              "1                                                 No                          \n",
              "2                                                 No                          \n",
              "3                                                 No                          \n",
              "4                                                 No                          \n",
              "\n",
              "[5 rows x 55 columns]"
            ],
            "text/html": [
              "\n",
              "\n",
              "  <div id=\"df-ef56d92b-79b8-4dd2-9f9d-d9db0cc0e23b\">\n",
              "    <div class=\"colab-df-container\">\n",
              "      <div>\n",
              "<style scoped>\n",
              "    .dataframe tbody tr th:only-of-type {\n",
              "        vertical-align: middle;\n",
              "    }\n",
              "\n",
              "    .dataframe tbody tr th {\n",
              "        vertical-align: top;\n",
              "    }\n",
              "\n",
              "    .dataframe thead th {\n",
              "        text-align: right;\n",
              "    }\n",
              "</style>\n",
              "<table border=\"1\" class=\"dataframe\">\n",
              "  <thead>\n",
              "    <tr style=\"text-align: right;\">\n",
              "      <th></th>\n",
              "      <th>Economy</th>\n",
              "      <th>Economy Code</th>\n",
              "      <th>ISO Code</th>\n",
              "      <th>Region</th>\n",
              "      <th>Income Group</th>\n",
              "      <th>Report Year</th>\n",
              "      <th>WBL INDEX</th>\n",
              "      <th>MOBILITY</th>\n",
              "      <th>Can a woman choose where to live in the same way as a man?</th>\n",
              "      <th>Can a woman travel outside her home in the same way as a man?</th>\n",
              "      <th>...</th>\n",
              "      <th>Do men and women have equal ownership rights to immovable property?</th>\n",
              "      <th>Do sons and daughters have equal rights to inherit assets from their parents?</th>\n",
              "      <th>Do male and female surviving spouses have equal rights to inherit assets?</th>\n",
              "      <th>Does the law grant spouses equal administrative authority over assets during marriage?</th>\n",
              "      <th>Does the law provide for the valuation of nonmonetary contributions?</th>\n",
              "      <th>PENSION</th>\n",
              "      <th>Is the age at which men and women can retire with full pension benefits the same?</th>\n",
              "      <th>Is the age at which men and women can retire with partial pension benefits the same?</th>\n",
              "      <th>Is the mandatory retirement age for men and women the same?</th>\n",
              "      <th>Are periods of absence due to childcare accounted for in pension benefits?</th>\n",
              "    </tr>\n",
              "  </thead>\n",
              "  <tbody>\n",
              "    <tr>\n",
              "      <th>0</th>\n",
              "      <td>Afghanistan</td>\n",
              "      <td>AFG</td>\n",
              "      <td>AFG</td>\n",
              "      <td>South Asia</td>\n",
              "      <td>Low income</td>\n",
              "      <td>1971</td>\n",
              "      <td>26.25</td>\n",
              "      <td>25</td>\n",
              "      <td>No</td>\n",
              "      <td>No</td>\n",
              "      <td>...</td>\n",
              "      <td>Yes</td>\n",
              "      <td>No</td>\n",
              "      <td>No</td>\n",
              "      <td>Yes</td>\n",
              "      <td>No</td>\n",
              "      <td>25</td>\n",
              "      <td>No</td>\n",
              "      <td>No</td>\n",
              "      <td>Yes</td>\n",
              "      <td>No</td>\n",
              "    </tr>\n",
              "    <tr>\n",
              "      <th>1</th>\n",
              "      <td>Afghanistan</td>\n",
              "      <td>AFG</td>\n",
              "      <td>AFG</td>\n",
              "      <td>South Asia</td>\n",
              "      <td>Low income</td>\n",
              "      <td>1972</td>\n",
              "      <td>26.25</td>\n",
              "      <td>25</td>\n",
              "      <td>No</td>\n",
              "      <td>No</td>\n",
              "      <td>...</td>\n",
              "      <td>Yes</td>\n",
              "      <td>No</td>\n",
              "      <td>No</td>\n",
              "      <td>Yes</td>\n",
              "      <td>No</td>\n",
              "      <td>25</td>\n",
              "      <td>No</td>\n",
              "      <td>No</td>\n",
              "      <td>Yes</td>\n",
              "      <td>No</td>\n",
              "    </tr>\n",
              "    <tr>\n",
              "      <th>2</th>\n",
              "      <td>Afghanistan</td>\n",
              "      <td>AFG</td>\n",
              "      <td>AFG</td>\n",
              "      <td>South Asia</td>\n",
              "      <td>Low income</td>\n",
              "      <td>1973</td>\n",
              "      <td>26.25</td>\n",
              "      <td>25</td>\n",
              "      <td>No</td>\n",
              "      <td>No</td>\n",
              "      <td>...</td>\n",
              "      <td>Yes</td>\n",
              "      <td>No</td>\n",
              "      <td>No</td>\n",
              "      <td>Yes</td>\n",
              "      <td>No</td>\n",
              "      <td>25</td>\n",
              "      <td>No</td>\n",
              "      <td>No</td>\n",
              "      <td>Yes</td>\n",
              "      <td>No</td>\n",
              "    </tr>\n",
              "    <tr>\n",
              "      <th>3</th>\n",
              "      <td>Afghanistan</td>\n",
              "      <td>AFG</td>\n",
              "      <td>AFG</td>\n",
              "      <td>South Asia</td>\n",
              "      <td>Low income</td>\n",
              "      <td>1974</td>\n",
              "      <td>26.25</td>\n",
              "      <td>25</td>\n",
              "      <td>No</td>\n",
              "      <td>No</td>\n",
              "      <td>...</td>\n",
              "      <td>Yes</td>\n",
              "      <td>No</td>\n",
              "      <td>No</td>\n",
              "      <td>Yes</td>\n",
              "      <td>No</td>\n",
              "      <td>25</td>\n",
              "      <td>No</td>\n",
              "      <td>No</td>\n",
              "      <td>Yes</td>\n",
              "      <td>No</td>\n",
              "    </tr>\n",
              "    <tr>\n",
              "      <th>4</th>\n",
              "      <td>Afghanistan</td>\n",
              "      <td>AFG</td>\n",
              "      <td>AFG</td>\n",
              "      <td>South Asia</td>\n",
              "      <td>Low income</td>\n",
              "      <td>1975</td>\n",
              "      <td>26.25</td>\n",
              "      <td>25</td>\n",
              "      <td>No</td>\n",
              "      <td>No</td>\n",
              "      <td>...</td>\n",
              "      <td>Yes</td>\n",
              "      <td>No</td>\n",
              "      <td>No</td>\n",
              "      <td>Yes</td>\n",
              "      <td>No</td>\n",
              "      <td>25</td>\n",
              "      <td>No</td>\n",
              "      <td>No</td>\n",
              "      <td>Yes</td>\n",
              "      <td>No</td>\n",
              "    </tr>\n",
              "  </tbody>\n",
              "</table>\n",
              "<p>5 rows × 55 columns</p>\n",
              "</div>\n",
              "      <button class=\"colab-df-convert\" onclick=\"convertToInteractive('df-ef56d92b-79b8-4dd2-9f9d-d9db0cc0e23b')\"\n",
              "              title=\"Convert this dataframe to an interactive table.\"\n",
              "              style=\"display:none;\">\n",
              "\n",
              "  <svg xmlns=\"http://www.w3.org/2000/svg\" height=\"24px\"viewBox=\"0 0 24 24\"\n",
              "       width=\"24px\">\n",
              "    <path d=\"M0 0h24v24H0V0z\" fill=\"none\"/>\n",
              "    <path d=\"M18.56 5.44l.94 2.06.94-2.06 2.06-.94-2.06-.94-.94-2.06-.94 2.06-2.06.94zm-11 1L8.5 8.5l.94-2.06 2.06-.94-2.06-.94L8.5 2.5l-.94 2.06-2.06.94zm10 10l.94 2.06.94-2.06 2.06-.94-2.06-.94-.94-2.06-.94 2.06-2.06.94z\"/><path d=\"M17.41 7.96l-1.37-1.37c-.4-.4-.92-.59-1.43-.59-.52 0-1.04.2-1.43.59L10.3 9.45l-7.72 7.72c-.78.78-.78 2.05 0 2.83L4 21.41c.39.39.9.59 1.41.59.51 0 1.02-.2 1.41-.59l7.78-7.78 2.81-2.81c.8-.78.8-2.07 0-2.86zM5.41 20L4 18.59l7.72-7.72 1.47 1.35L5.41 20z\"/>\n",
              "  </svg>\n",
              "      </button>\n",
              "\n",
              "\n",
              "\n",
              "    <div id=\"df-49bdffb4-319b-48e7-be15-bbb750574958\">\n",
              "      <button class=\"colab-df-quickchart\" onclick=\"quickchart('df-49bdffb4-319b-48e7-be15-bbb750574958')\"\n",
              "              title=\"Suggest charts.\"\n",
              "              style=\"display:none;\">\n",
              "\n",
              "<svg xmlns=\"http://www.w3.org/2000/svg\" height=\"24px\"viewBox=\"0 0 24 24\"\n",
              "     width=\"24px\">\n",
              "    <g>\n",
              "        <path d=\"M19 3H5c-1.1 0-2 .9-2 2v14c0 1.1.9 2 2 2h14c1.1 0 2-.9 2-2V5c0-1.1-.9-2-2-2zM9 17H7v-7h2v7zm4 0h-2V7h2v10zm4 0h-2v-4h2v4z\"/>\n",
              "    </g>\n",
              "</svg>\n",
              "      </button>\n",
              "    </div>\n",
              "\n",
              "<style>\n",
              "  .colab-df-quickchart {\n",
              "    background-color: #E8F0FE;\n",
              "    border: none;\n",
              "    border-radius: 50%;\n",
              "    cursor: pointer;\n",
              "    display: none;\n",
              "    fill: #1967D2;\n",
              "    height: 32px;\n",
              "    padding: 0 0 0 0;\n",
              "    width: 32px;\n",
              "  }\n",
              "\n",
              "  .colab-df-quickchart:hover {\n",
              "    background-color: #E2EBFA;\n",
              "    box-shadow: 0px 1px 2px rgba(60, 64, 67, 0.3), 0px 1px 3px 1px rgba(60, 64, 67, 0.15);\n",
              "    fill: #174EA6;\n",
              "  }\n",
              "\n",
              "  [theme=dark] .colab-df-quickchart {\n",
              "    background-color: #3B4455;\n",
              "    fill: #D2E3FC;\n",
              "  }\n",
              "\n",
              "  [theme=dark] .colab-df-quickchart:hover {\n",
              "    background-color: #434B5C;\n",
              "    box-shadow: 0px 1px 3px 1px rgba(0, 0, 0, 0.15);\n",
              "    filter: drop-shadow(0px 1px 2px rgba(0, 0, 0, 0.3));\n",
              "    fill: #FFFFFF;\n",
              "  }\n",
              "</style>\n",
              "\n",
              "    <script>\n",
              "      async function quickchart(key) {\n",
              "        const containerElement = document.querySelector('#' + key);\n",
              "        const charts = await google.colab.kernel.invokeFunction(\n",
              "            'suggestCharts', [key], {});\n",
              "      }\n",
              "    </script>\n",
              "\n",
              "      <script>\n",
              "\n",
              "function displayQuickchartButton(domScope) {\n",
              "  let quickchartButtonEl =\n",
              "    domScope.querySelector('#df-49bdffb4-319b-48e7-be15-bbb750574958 button.colab-df-quickchart');\n",
              "  quickchartButtonEl.style.display =\n",
              "    google.colab.kernel.accessAllowed ? 'block' : 'none';\n",
              "}\n",
              "\n",
              "        displayQuickchartButton(document);\n",
              "      </script>\n",
              "      <style>\n",
              "    .colab-df-container {\n",
              "      display:flex;\n",
              "      flex-wrap:wrap;\n",
              "      gap: 12px;\n",
              "    }\n",
              "\n",
              "    .colab-df-convert {\n",
              "      background-color: #E8F0FE;\n",
              "      border: none;\n",
              "      border-radius: 50%;\n",
              "      cursor: pointer;\n",
              "      display: none;\n",
              "      fill: #1967D2;\n",
              "      height: 32px;\n",
              "      padding: 0 0 0 0;\n",
              "      width: 32px;\n",
              "    }\n",
              "\n",
              "    .colab-df-convert:hover {\n",
              "      background-color: #E2EBFA;\n",
              "      box-shadow: 0px 1px 2px rgba(60, 64, 67, 0.3), 0px 1px 3px 1px rgba(60, 64, 67, 0.15);\n",
              "      fill: #174EA6;\n",
              "    }\n",
              "\n",
              "    [theme=dark] .colab-df-convert {\n",
              "      background-color: #3B4455;\n",
              "      fill: #D2E3FC;\n",
              "    }\n",
              "\n",
              "    [theme=dark] .colab-df-convert:hover {\n",
              "      background-color: #434B5C;\n",
              "      box-shadow: 0px 1px 3px 1px rgba(0, 0, 0, 0.15);\n",
              "      filter: drop-shadow(0px 1px 2px rgba(0, 0, 0, 0.3));\n",
              "      fill: #FFFFFF;\n",
              "    }\n",
              "  </style>\n",
              "\n",
              "      <script>\n",
              "        const buttonEl =\n",
              "          document.querySelector('#df-ef56d92b-79b8-4dd2-9f9d-d9db0cc0e23b button.colab-df-convert');\n",
              "        buttonEl.style.display =\n",
              "          google.colab.kernel.accessAllowed ? 'block' : 'none';\n",
              "\n",
              "        async function convertToInteractive(key) {\n",
              "          const element = document.querySelector('#df-ef56d92b-79b8-4dd2-9f9d-d9db0cc0e23b');\n",
              "          const dataTable =\n",
              "            await google.colab.kernel.invokeFunction('convertToInteractive',\n",
              "                                                     [key], {});\n",
              "          if (!dataTable) return;\n",
              "\n",
              "          const docLinkHtml = 'Like what you see? Visit the ' +\n",
              "            '<a target=\"_blank\" href=https://colab.research.google.com/notebooks/data_table.ipynb>data table notebook</a>'\n",
              "            + ' to learn more about interactive tables.';\n",
              "          element.innerHTML = '';\n",
              "          dataTable['output_type'] = 'display_data';\n",
              "          await google.colab.output.renderOutput(dataTable, element);\n",
              "          const docLink = document.createElement('div');\n",
              "          docLink.innerHTML = docLinkHtml;\n",
              "          element.appendChild(docLink);\n",
              "        }\n",
              "      </script>\n",
              "    </div>\n",
              "  </div>\n"
            ]
          },
          "metadata": {},
          "execution_count": 3
        }
      ],
      "source": [
        "df1.head()"
      ]
    },
    {
      "cell_type": "code",
      "source": [
        "df1.describe().T"
      ],
      "metadata": {
        "colab": {
          "base_uri": "https://localhost:8080/",
          "height": 564
        },
        "id": "tNupKiAVLZt5",
        "outputId": "0558a38f-6777-4750-bea8-73d4e41143a8"
      },
      "execution_count": 4,
      "outputs": [
        {
          "output_type": "execute_result",
          "data": {
            "text/plain": [
              "                                  count         mean         std     min  \\\n",
              "Report Year                     10070.0  1997.000000   15.297818  1971.0   \n",
              "WBL INDEX                       10070.0    59.725919   18.624405    17.5   \n",
              "MOBILITY                        10070.0    82.142502   25.734132     0.0   \n",
              "WORKPLACE                       10070.0    43.083416   33.698891     0.0   \n",
              "PAY                             10070.0    47.656405   31.274515     0.0   \n",
              "MARRIAGE                        10070.0    61.813307   29.891865     0.0   \n",
              "PARENTHOOD                      10070.0    34.975174   30.636223     0.0   \n",
              "Length of paid maternity leave  10070.0    85.440020   62.109872     0.0   \n",
              "Length of paid paternity leave  10070.0     1.747865    6.840542     0.0   \n",
              "Shared days                     10070.0    38.561867  159.929592     0.0   \n",
              "Days for the mother             10070.0     5.271500   40.535523     0.0   \n",
              "Days for the father             10070.0     3.681529   27.854897     0.0   \n",
              "ENTREPRENEURSHIP                10070.0    72.715988   21.231145     0.0   \n",
              "ASSETS                          10070.0    73.769613   29.200465     0.0   \n",
              "PENSION                         10070.0    61.650943   28.975416     0.0   \n",
              "\n",
              "                                     25%       50%       75%     max  \n",
              "Report Year                     1984.000  1997.000  2010.000  2023.0  \n",
              "WBL INDEX                         46.875    59.375    73.125   100.0  \n",
              "MOBILITY                          75.000   100.000   100.000   100.0  \n",
              "WORKPLACE                         25.000    25.000    75.000   100.0  \n",
              "PAY                               25.000    50.000    75.000   100.0  \n",
              "MARRIAGE                          40.000    80.000    80.000   100.0  \n",
              "PARENTHOOD                         0.000    20.000    60.000   100.0  \n",
              "Length of paid maternity leave    60.000    84.000   101.000   635.0  \n",
              "Length of paid paternity leave     0.000     0.000     0.000   180.0  \n",
              "Shared days                        0.000     0.000     0.000  1460.0  \n",
              "Days for the mother                0.000     0.000     0.000  1095.0  \n",
              "Days for the father                0.000     0.000     0.000   365.0  \n",
              "ENTREPRENEURSHIP                  75.000    75.000    75.000   100.0  \n",
              "ASSETS                            40.000    80.000   100.000   100.0  \n",
              "PENSION                           25.000    75.000    75.000   100.0  "
            ],
            "text/html": [
              "\n",
              "\n",
              "  <div id=\"df-335fc3a4-79df-4322-b73e-31284f9d8a78\">\n",
              "    <div class=\"colab-df-container\">\n",
              "      <div>\n",
              "<style scoped>\n",
              "    .dataframe tbody tr th:only-of-type {\n",
              "        vertical-align: middle;\n",
              "    }\n",
              "\n",
              "    .dataframe tbody tr th {\n",
              "        vertical-align: top;\n",
              "    }\n",
              "\n",
              "    .dataframe thead th {\n",
              "        text-align: right;\n",
              "    }\n",
              "</style>\n",
              "<table border=\"1\" class=\"dataframe\">\n",
              "  <thead>\n",
              "    <tr style=\"text-align: right;\">\n",
              "      <th></th>\n",
              "      <th>count</th>\n",
              "      <th>mean</th>\n",
              "      <th>std</th>\n",
              "      <th>min</th>\n",
              "      <th>25%</th>\n",
              "      <th>50%</th>\n",
              "      <th>75%</th>\n",
              "      <th>max</th>\n",
              "    </tr>\n",
              "  </thead>\n",
              "  <tbody>\n",
              "    <tr>\n",
              "      <th>Report Year</th>\n",
              "      <td>10070.0</td>\n",
              "      <td>1997.000000</td>\n",
              "      <td>15.297818</td>\n",
              "      <td>1971.0</td>\n",
              "      <td>1984.000</td>\n",
              "      <td>1997.000</td>\n",
              "      <td>2010.000</td>\n",
              "      <td>2023.0</td>\n",
              "    </tr>\n",
              "    <tr>\n",
              "      <th>WBL INDEX</th>\n",
              "      <td>10070.0</td>\n",
              "      <td>59.725919</td>\n",
              "      <td>18.624405</td>\n",
              "      <td>17.5</td>\n",
              "      <td>46.875</td>\n",
              "      <td>59.375</td>\n",
              "      <td>73.125</td>\n",
              "      <td>100.0</td>\n",
              "    </tr>\n",
              "    <tr>\n",
              "      <th>MOBILITY</th>\n",
              "      <td>10070.0</td>\n",
              "      <td>82.142502</td>\n",
              "      <td>25.734132</td>\n",
              "      <td>0.0</td>\n",
              "      <td>75.000</td>\n",
              "      <td>100.000</td>\n",
              "      <td>100.000</td>\n",
              "      <td>100.0</td>\n",
              "    </tr>\n",
              "    <tr>\n",
              "      <th>WORKPLACE</th>\n",
              "      <td>10070.0</td>\n",
              "      <td>43.083416</td>\n",
              "      <td>33.698891</td>\n",
              "      <td>0.0</td>\n",
              "      <td>25.000</td>\n",
              "      <td>25.000</td>\n",
              "      <td>75.000</td>\n",
              "      <td>100.0</td>\n",
              "    </tr>\n",
              "    <tr>\n",
              "      <th>PAY</th>\n",
              "      <td>10070.0</td>\n",
              "      <td>47.656405</td>\n",
              "      <td>31.274515</td>\n",
              "      <td>0.0</td>\n",
              "      <td>25.000</td>\n",
              "      <td>50.000</td>\n",
              "      <td>75.000</td>\n",
              "      <td>100.0</td>\n",
              "    </tr>\n",
              "    <tr>\n",
              "      <th>MARRIAGE</th>\n",
              "      <td>10070.0</td>\n",
              "      <td>61.813307</td>\n",
              "      <td>29.891865</td>\n",
              "      <td>0.0</td>\n",
              "      <td>40.000</td>\n",
              "      <td>80.000</td>\n",
              "      <td>80.000</td>\n",
              "      <td>100.0</td>\n",
              "    </tr>\n",
              "    <tr>\n",
              "      <th>PARENTHOOD</th>\n",
              "      <td>10070.0</td>\n",
              "      <td>34.975174</td>\n",
              "      <td>30.636223</td>\n",
              "      <td>0.0</td>\n",
              "      <td>0.000</td>\n",
              "      <td>20.000</td>\n",
              "      <td>60.000</td>\n",
              "      <td>100.0</td>\n",
              "    </tr>\n",
              "    <tr>\n",
              "      <th>Length of paid maternity leave</th>\n",
              "      <td>10070.0</td>\n",
              "      <td>85.440020</td>\n",
              "      <td>62.109872</td>\n",
              "      <td>0.0</td>\n",
              "      <td>60.000</td>\n",
              "      <td>84.000</td>\n",
              "      <td>101.000</td>\n",
              "      <td>635.0</td>\n",
              "    </tr>\n",
              "    <tr>\n",
              "      <th>Length of paid paternity leave</th>\n",
              "      <td>10070.0</td>\n",
              "      <td>1.747865</td>\n",
              "      <td>6.840542</td>\n",
              "      <td>0.0</td>\n",
              "      <td>0.000</td>\n",
              "      <td>0.000</td>\n",
              "      <td>0.000</td>\n",
              "      <td>180.0</td>\n",
              "    </tr>\n",
              "    <tr>\n",
              "      <th>Shared days</th>\n",
              "      <td>10070.0</td>\n",
              "      <td>38.561867</td>\n",
              "      <td>159.929592</td>\n",
              "      <td>0.0</td>\n",
              "      <td>0.000</td>\n",
              "      <td>0.000</td>\n",
              "      <td>0.000</td>\n",
              "      <td>1460.0</td>\n",
              "    </tr>\n",
              "    <tr>\n",
              "      <th>Days for the mother</th>\n",
              "      <td>10070.0</td>\n",
              "      <td>5.271500</td>\n",
              "      <td>40.535523</td>\n",
              "      <td>0.0</td>\n",
              "      <td>0.000</td>\n",
              "      <td>0.000</td>\n",
              "      <td>0.000</td>\n",
              "      <td>1095.0</td>\n",
              "    </tr>\n",
              "    <tr>\n",
              "      <th>Days for the father</th>\n",
              "      <td>10070.0</td>\n",
              "      <td>3.681529</td>\n",
              "      <td>27.854897</td>\n",
              "      <td>0.0</td>\n",
              "      <td>0.000</td>\n",
              "      <td>0.000</td>\n",
              "      <td>0.000</td>\n",
              "      <td>365.0</td>\n",
              "    </tr>\n",
              "    <tr>\n",
              "      <th>ENTREPRENEURSHIP</th>\n",
              "      <td>10070.0</td>\n",
              "      <td>72.715988</td>\n",
              "      <td>21.231145</td>\n",
              "      <td>0.0</td>\n",
              "      <td>75.000</td>\n",
              "      <td>75.000</td>\n",
              "      <td>75.000</td>\n",
              "      <td>100.0</td>\n",
              "    </tr>\n",
              "    <tr>\n",
              "      <th>ASSETS</th>\n",
              "      <td>10070.0</td>\n",
              "      <td>73.769613</td>\n",
              "      <td>29.200465</td>\n",
              "      <td>0.0</td>\n",
              "      <td>40.000</td>\n",
              "      <td>80.000</td>\n",
              "      <td>100.000</td>\n",
              "      <td>100.0</td>\n",
              "    </tr>\n",
              "    <tr>\n",
              "      <th>PENSION</th>\n",
              "      <td>10070.0</td>\n",
              "      <td>61.650943</td>\n",
              "      <td>28.975416</td>\n",
              "      <td>0.0</td>\n",
              "      <td>25.000</td>\n",
              "      <td>75.000</td>\n",
              "      <td>75.000</td>\n",
              "      <td>100.0</td>\n",
              "    </tr>\n",
              "  </tbody>\n",
              "</table>\n",
              "</div>\n",
              "      <button class=\"colab-df-convert\" onclick=\"convertToInteractive('df-335fc3a4-79df-4322-b73e-31284f9d8a78')\"\n",
              "              title=\"Convert this dataframe to an interactive table.\"\n",
              "              style=\"display:none;\">\n",
              "\n",
              "  <svg xmlns=\"http://www.w3.org/2000/svg\" height=\"24px\"viewBox=\"0 0 24 24\"\n",
              "       width=\"24px\">\n",
              "    <path d=\"M0 0h24v24H0V0z\" fill=\"none\"/>\n",
              "    <path d=\"M18.56 5.44l.94 2.06.94-2.06 2.06-.94-2.06-.94-.94-2.06-.94 2.06-2.06.94zm-11 1L8.5 8.5l.94-2.06 2.06-.94-2.06-.94L8.5 2.5l-.94 2.06-2.06.94zm10 10l.94 2.06.94-2.06 2.06-.94-2.06-.94-.94-2.06-.94 2.06-2.06.94z\"/><path d=\"M17.41 7.96l-1.37-1.37c-.4-.4-.92-.59-1.43-.59-.52 0-1.04.2-1.43.59L10.3 9.45l-7.72 7.72c-.78.78-.78 2.05 0 2.83L4 21.41c.39.39.9.59 1.41.59.51 0 1.02-.2 1.41-.59l7.78-7.78 2.81-2.81c.8-.78.8-2.07 0-2.86zM5.41 20L4 18.59l7.72-7.72 1.47 1.35L5.41 20z\"/>\n",
              "  </svg>\n",
              "      </button>\n",
              "\n",
              "\n",
              "\n",
              "    <div id=\"df-91a14356-a4cf-423c-85d0-bfc239fb16ff\">\n",
              "      <button class=\"colab-df-quickchart\" onclick=\"quickchart('df-91a14356-a4cf-423c-85d0-bfc239fb16ff')\"\n",
              "              title=\"Suggest charts.\"\n",
              "              style=\"display:none;\">\n",
              "\n",
              "<svg xmlns=\"http://www.w3.org/2000/svg\" height=\"24px\"viewBox=\"0 0 24 24\"\n",
              "     width=\"24px\">\n",
              "    <g>\n",
              "        <path d=\"M19 3H5c-1.1 0-2 .9-2 2v14c0 1.1.9 2 2 2h14c1.1 0 2-.9 2-2V5c0-1.1-.9-2-2-2zM9 17H7v-7h2v7zm4 0h-2V7h2v10zm4 0h-2v-4h2v4z\"/>\n",
              "    </g>\n",
              "</svg>\n",
              "      </button>\n",
              "    </div>\n",
              "\n",
              "<style>\n",
              "  .colab-df-quickchart {\n",
              "    background-color: #E8F0FE;\n",
              "    border: none;\n",
              "    border-radius: 50%;\n",
              "    cursor: pointer;\n",
              "    display: none;\n",
              "    fill: #1967D2;\n",
              "    height: 32px;\n",
              "    padding: 0 0 0 0;\n",
              "    width: 32px;\n",
              "  }\n",
              "\n",
              "  .colab-df-quickchart:hover {\n",
              "    background-color: #E2EBFA;\n",
              "    box-shadow: 0px 1px 2px rgba(60, 64, 67, 0.3), 0px 1px 3px 1px rgba(60, 64, 67, 0.15);\n",
              "    fill: #174EA6;\n",
              "  }\n",
              "\n",
              "  [theme=dark] .colab-df-quickchart {\n",
              "    background-color: #3B4455;\n",
              "    fill: #D2E3FC;\n",
              "  }\n",
              "\n",
              "  [theme=dark] .colab-df-quickchart:hover {\n",
              "    background-color: #434B5C;\n",
              "    box-shadow: 0px 1px 3px 1px rgba(0, 0, 0, 0.15);\n",
              "    filter: drop-shadow(0px 1px 2px rgba(0, 0, 0, 0.3));\n",
              "    fill: #FFFFFF;\n",
              "  }\n",
              "</style>\n",
              "\n",
              "    <script>\n",
              "      async function quickchart(key) {\n",
              "        const containerElement = document.querySelector('#' + key);\n",
              "        const charts = await google.colab.kernel.invokeFunction(\n",
              "            'suggestCharts', [key], {});\n",
              "      }\n",
              "    </script>\n",
              "\n",
              "      <script>\n",
              "\n",
              "function displayQuickchartButton(domScope) {\n",
              "  let quickchartButtonEl =\n",
              "    domScope.querySelector('#df-91a14356-a4cf-423c-85d0-bfc239fb16ff button.colab-df-quickchart');\n",
              "  quickchartButtonEl.style.display =\n",
              "    google.colab.kernel.accessAllowed ? 'block' : 'none';\n",
              "}\n",
              "\n",
              "        displayQuickchartButton(document);\n",
              "      </script>\n",
              "      <style>\n",
              "    .colab-df-container {\n",
              "      display:flex;\n",
              "      flex-wrap:wrap;\n",
              "      gap: 12px;\n",
              "    }\n",
              "\n",
              "    .colab-df-convert {\n",
              "      background-color: #E8F0FE;\n",
              "      border: none;\n",
              "      border-radius: 50%;\n",
              "      cursor: pointer;\n",
              "      display: none;\n",
              "      fill: #1967D2;\n",
              "      height: 32px;\n",
              "      padding: 0 0 0 0;\n",
              "      width: 32px;\n",
              "    }\n",
              "\n",
              "    .colab-df-convert:hover {\n",
              "      background-color: #E2EBFA;\n",
              "      box-shadow: 0px 1px 2px rgba(60, 64, 67, 0.3), 0px 1px 3px 1px rgba(60, 64, 67, 0.15);\n",
              "      fill: #174EA6;\n",
              "    }\n",
              "\n",
              "    [theme=dark] .colab-df-convert {\n",
              "      background-color: #3B4455;\n",
              "      fill: #D2E3FC;\n",
              "    }\n",
              "\n",
              "    [theme=dark] .colab-df-convert:hover {\n",
              "      background-color: #434B5C;\n",
              "      box-shadow: 0px 1px 3px 1px rgba(0, 0, 0, 0.15);\n",
              "      filter: drop-shadow(0px 1px 2px rgba(0, 0, 0, 0.3));\n",
              "      fill: #FFFFFF;\n",
              "    }\n",
              "  </style>\n",
              "\n",
              "      <script>\n",
              "        const buttonEl =\n",
              "          document.querySelector('#df-335fc3a4-79df-4322-b73e-31284f9d8a78 button.colab-df-convert');\n",
              "        buttonEl.style.display =\n",
              "          google.colab.kernel.accessAllowed ? 'block' : 'none';\n",
              "\n",
              "        async function convertToInteractive(key) {\n",
              "          const element = document.querySelector('#df-335fc3a4-79df-4322-b73e-31284f9d8a78');\n",
              "          const dataTable =\n",
              "            await google.colab.kernel.invokeFunction('convertToInteractive',\n",
              "                                                     [key], {});\n",
              "          if (!dataTable) return;\n",
              "\n",
              "          const docLinkHtml = 'Like what you see? Visit the ' +\n",
              "            '<a target=\"_blank\" href=https://colab.research.google.com/notebooks/data_table.ipynb>data table notebook</a>'\n",
              "            + ' to learn more about interactive tables.';\n",
              "          element.innerHTML = '';\n",
              "          dataTable['output_type'] = 'display_data';\n",
              "          await google.colab.output.renderOutput(dataTable, element);\n",
              "          const docLink = document.createElement('div');\n",
              "          docLink.innerHTML = docLinkHtml;\n",
              "          element.appendChild(docLink);\n",
              "        }\n",
              "      </script>\n",
              "    </div>\n",
              "  </div>\n"
            ]
          },
          "metadata": {},
          "execution_count": 4
        }
      ]
    },
    {
      "cell_type": "code",
      "source": [
        "df1.shape"
      ],
      "metadata": {
        "colab": {
          "base_uri": "https://localhost:8080/"
        },
        "id": "YQJDlbAO4WHn",
        "outputId": "67bac33d-998d-48e9-d912-d1c6d4fe0361"
      },
      "execution_count": 5,
      "outputs": [
        {
          "output_type": "execute_result",
          "data": {
            "text/plain": [
              "(10070, 55)"
            ]
          },
          "metadata": {},
          "execution_count": 5
        }
      ]
    },
    {
      "cell_type": "code",
      "source": [
        "df1.describe()"
      ],
      "metadata": {
        "colab": {
          "base_uri": "https://localhost:8080/",
          "height": 416
        },
        "id": "5aDvl9XR4eU3",
        "outputId": "163947d4-4cc8-43d1-fd02-2f42d7bfa4fb"
      },
      "execution_count": 6,
      "outputs": [
        {
          "output_type": "execute_result",
          "data": {
            "text/plain": [
              "        Report Year     WBL INDEX      MOBILITY     WORKPLACE           PAY  \\\n",
              "count  10070.000000  10070.000000  10070.000000  10070.000000  10070.000000   \n",
              "mean    1997.000000     59.725919     82.142502     43.083416     47.656405   \n",
              "std       15.297818     18.624405     25.734132     33.698891     31.274515   \n",
              "min     1971.000000     17.500000      0.000000      0.000000      0.000000   \n",
              "25%     1984.000000     46.875000     75.000000     25.000000     25.000000   \n",
              "50%     1997.000000     59.375000    100.000000     25.000000     50.000000   \n",
              "75%     2010.000000     73.125000    100.000000     75.000000     75.000000   \n",
              "max     2023.000000    100.000000    100.000000    100.000000    100.000000   \n",
              "\n",
              "           MARRIAGE    PARENTHOOD  Length of paid maternity leave  \\\n",
              "count  10070.000000  10070.000000                    10070.000000   \n",
              "mean      61.813307     34.975174                       85.440020   \n",
              "std       29.891865     30.636223                       62.109872   \n",
              "min        0.000000      0.000000                        0.000000   \n",
              "25%       40.000000      0.000000                       60.000000   \n",
              "50%       80.000000     20.000000                       84.000000   \n",
              "75%       80.000000     60.000000                      101.000000   \n",
              "max      100.000000    100.000000                      635.000000   \n",
              "\n",
              "       Length of paid paternity leave   Shared days  Days for the mother  \\\n",
              "count                    10070.000000  10070.000000         10070.000000   \n",
              "mean                         1.747865     38.561867             5.271500   \n",
              "std                          6.840542    159.929592            40.535523   \n",
              "min                          0.000000      0.000000             0.000000   \n",
              "25%                          0.000000      0.000000             0.000000   \n",
              "50%                          0.000000      0.000000             0.000000   \n",
              "75%                          0.000000      0.000000             0.000000   \n",
              "max                        180.000000   1460.000000          1095.000000   \n",
              "\n",
              "       Days for the father  ENTREPRENEURSHIP        ASSETS       PENSION  \n",
              "count         10070.000000      10070.000000  10070.000000  10070.000000  \n",
              "mean              3.681529         72.715988     73.769613     61.650943  \n",
              "std              27.854897         21.231145     29.200465     28.975416  \n",
              "min               0.000000          0.000000      0.000000      0.000000  \n",
              "25%               0.000000         75.000000     40.000000     25.000000  \n",
              "50%               0.000000         75.000000     80.000000     75.000000  \n",
              "75%               0.000000         75.000000    100.000000     75.000000  \n",
              "max             365.000000        100.000000    100.000000    100.000000  "
            ],
            "text/html": [
              "\n",
              "\n",
              "  <div id=\"df-fc979779-7d90-43f3-8cdf-23576df5d833\">\n",
              "    <div class=\"colab-df-container\">\n",
              "      <div>\n",
              "<style scoped>\n",
              "    .dataframe tbody tr th:only-of-type {\n",
              "        vertical-align: middle;\n",
              "    }\n",
              "\n",
              "    .dataframe tbody tr th {\n",
              "        vertical-align: top;\n",
              "    }\n",
              "\n",
              "    .dataframe thead th {\n",
              "        text-align: right;\n",
              "    }\n",
              "</style>\n",
              "<table border=\"1\" class=\"dataframe\">\n",
              "  <thead>\n",
              "    <tr style=\"text-align: right;\">\n",
              "      <th></th>\n",
              "      <th>Report Year</th>\n",
              "      <th>WBL INDEX</th>\n",
              "      <th>MOBILITY</th>\n",
              "      <th>WORKPLACE</th>\n",
              "      <th>PAY</th>\n",
              "      <th>MARRIAGE</th>\n",
              "      <th>PARENTHOOD</th>\n",
              "      <th>Length of paid maternity leave</th>\n",
              "      <th>Length of paid paternity leave</th>\n",
              "      <th>Shared days</th>\n",
              "      <th>Days for the mother</th>\n",
              "      <th>Days for the father</th>\n",
              "      <th>ENTREPRENEURSHIP</th>\n",
              "      <th>ASSETS</th>\n",
              "      <th>PENSION</th>\n",
              "    </tr>\n",
              "  </thead>\n",
              "  <tbody>\n",
              "    <tr>\n",
              "      <th>count</th>\n",
              "      <td>10070.000000</td>\n",
              "      <td>10070.000000</td>\n",
              "      <td>10070.000000</td>\n",
              "      <td>10070.000000</td>\n",
              "      <td>10070.000000</td>\n",
              "      <td>10070.000000</td>\n",
              "      <td>10070.000000</td>\n",
              "      <td>10070.000000</td>\n",
              "      <td>10070.000000</td>\n",
              "      <td>10070.000000</td>\n",
              "      <td>10070.000000</td>\n",
              "      <td>10070.000000</td>\n",
              "      <td>10070.000000</td>\n",
              "      <td>10070.000000</td>\n",
              "      <td>10070.000000</td>\n",
              "    </tr>\n",
              "    <tr>\n",
              "      <th>mean</th>\n",
              "      <td>1997.000000</td>\n",
              "      <td>59.725919</td>\n",
              "      <td>82.142502</td>\n",
              "      <td>43.083416</td>\n",
              "      <td>47.656405</td>\n",
              "      <td>61.813307</td>\n",
              "      <td>34.975174</td>\n",
              "      <td>85.440020</td>\n",
              "      <td>1.747865</td>\n",
              "      <td>38.561867</td>\n",
              "      <td>5.271500</td>\n",
              "      <td>3.681529</td>\n",
              "      <td>72.715988</td>\n",
              "      <td>73.769613</td>\n",
              "      <td>61.650943</td>\n",
              "    </tr>\n",
              "    <tr>\n",
              "      <th>std</th>\n",
              "      <td>15.297818</td>\n",
              "      <td>18.624405</td>\n",
              "      <td>25.734132</td>\n",
              "      <td>33.698891</td>\n",
              "      <td>31.274515</td>\n",
              "      <td>29.891865</td>\n",
              "      <td>30.636223</td>\n",
              "      <td>62.109872</td>\n",
              "      <td>6.840542</td>\n",
              "      <td>159.929592</td>\n",
              "      <td>40.535523</td>\n",
              "      <td>27.854897</td>\n",
              "      <td>21.231145</td>\n",
              "      <td>29.200465</td>\n",
              "      <td>28.975416</td>\n",
              "    </tr>\n",
              "    <tr>\n",
              "      <th>min</th>\n",
              "      <td>1971.000000</td>\n",
              "      <td>17.500000</td>\n",
              "      <td>0.000000</td>\n",
              "      <td>0.000000</td>\n",
              "      <td>0.000000</td>\n",
              "      <td>0.000000</td>\n",
              "      <td>0.000000</td>\n",
              "      <td>0.000000</td>\n",
              "      <td>0.000000</td>\n",
              "      <td>0.000000</td>\n",
              "      <td>0.000000</td>\n",
              "      <td>0.000000</td>\n",
              "      <td>0.000000</td>\n",
              "      <td>0.000000</td>\n",
              "      <td>0.000000</td>\n",
              "    </tr>\n",
              "    <tr>\n",
              "      <th>25%</th>\n",
              "      <td>1984.000000</td>\n",
              "      <td>46.875000</td>\n",
              "      <td>75.000000</td>\n",
              "      <td>25.000000</td>\n",
              "      <td>25.000000</td>\n",
              "      <td>40.000000</td>\n",
              "      <td>0.000000</td>\n",
              "      <td>60.000000</td>\n",
              "      <td>0.000000</td>\n",
              "      <td>0.000000</td>\n",
              "      <td>0.000000</td>\n",
              "      <td>0.000000</td>\n",
              "      <td>75.000000</td>\n",
              "      <td>40.000000</td>\n",
              "      <td>25.000000</td>\n",
              "    </tr>\n",
              "    <tr>\n",
              "      <th>50%</th>\n",
              "      <td>1997.000000</td>\n",
              "      <td>59.375000</td>\n",
              "      <td>100.000000</td>\n",
              "      <td>25.000000</td>\n",
              "      <td>50.000000</td>\n",
              "      <td>80.000000</td>\n",
              "      <td>20.000000</td>\n",
              "      <td>84.000000</td>\n",
              "      <td>0.000000</td>\n",
              "      <td>0.000000</td>\n",
              "      <td>0.000000</td>\n",
              "      <td>0.000000</td>\n",
              "      <td>75.000000</td>\n",
              "      <td>80.000000</td>\n",
              "      <td>75.000000</td>\n",
              "    </tr>\n",
              "    <tr>\n",
              "      <th>75%</th>\n",
              "      <td>2010.000000</td>\n",
              "      <td>73.125000</td>\n",
              "      <td>100.000000</td>\n",
              "      <td>75.000000</td>\n",
              "      <td>75.000000</td>\n",
              "      <td>80.000000</td>\n",
              "      <td>60.000000</td>\n",
              "      <td>101.000000</td>\n",
              "      <td>0.000000</td>\n",
              "      <td>0.000000</td>\n",
              "      <td>0.000000</td>\n",
              "      <td>0.000000</td>\n",
              "      <td>75.000000</td>\n",
              "      <td>100.000000</td>\n",
              "      <td>75.000000</td>\n",
              "    </tr>\n",
              "    <tr>\n",
              "      <th>max</th>\n",
              "      <td>2023.000000</td>\n",
              "      <td>100.000000</td>\n",
              "      <td>100.000000</td>\n",
              "      <td>100.000000</td>\n",
              "      <td>100.000000</td>\n",
              "      <td>100.000000</td>\n",
              "      <td>100.000000</td>\n",
              "      <td>635.000000</td>\n",
              "      <td>180.000000</td>\n",
              "      <td>1460.000000</td>\n",
              "      <td>1095.000000</td>\n",
              "      <td>365.000000</td>\n",
              "      <td>100.000000</td>\n",
              "      <td>100.000000</td>\n",
              "      <td>100.000000</td>\n",
              "    </tr>\n",
              "  </tbody>\n",
              "</table>\n",
              "</div>\n",
              "      <button class=\"colab-df-convert\" onclick=\"convertToInteractive('df-fc979779-7d90-43f3-8cdf-23576df5d833')\"\n",
              "              title=\"Convert this dataframe to an interactive table.\"\n",
              "              style=\"display:none;\">\n",
              "\n",
              "  <svg xmlns=\"http://www.w3.org/2000/svg\" height=\"24px\"viewBox=\"0 0 24 24\"\n",
              "       width=\"24px\">\n",
              "    <path d=\"M0 0h24v24H0V0z\" fill=\"none\"/>\n",
              "    <path d=\"M18.56 5.44l.94 2.06.94-2.06 2.06-.94-2.06-.94-.94-2.06-.94 2.06-2.06.94zm-11 1L8.5 8.5l.94-2.06 2.06-.94-2.06-.94L8.5 2.5l-.94 2.06-2.06.94zm10 10l.94 2.06.94-2.06 2.06-.94-2.06-.94-.94-2.06-.94 2.06-2.06.94z\"/><path d=\"M17.41 7.96l-1.37-1.37c-.4-.4-.92-.59-1.43-.59-.52 0-1.04.2-1.43.59L10.3 9.45l-7.72 7.72c-.78.78-.78 2.05 0 2.83L4 21.41c.39.39.9.59 1.41.59.51 0 1.02-.2 1.41-.59l7.78-7.78 2.81-2.81c.8-.78.8-2.07 0-2.86zM5.41 20L4 18.59l7.72-7.72 1.47 1.35L5.41 20z\"/>\n",
              "  </svg>\n",
              "      </button>\n",
              "\n",
              "\n",
              "\n",
              "    <div id=\"df-5e3554bc-d7a8-4716-b14f-61945240b894\">\n",
              "      <button class=\"colab-df-quickchart\" onclick=\"quickchart('df-5e3554bc-d7a8-4716-b14f-61945240b894')\"\n",
              "              title=\"Suggest charts.\"\n",
              "              style=\"display:none;\">\n",
              "\n",
              "<svg xmlns=\"http://www.w3.org/2000/svg\" height=\"24px\"viewBox=\"0 0 24 24\"\n",
              "     width=\"24px\">\n",
              "    <g>\n",
              "        <path d=\"M19 3H5c-1.1 0-2 .9-2 2v14c0 1.1.9 2 2 2h14c1.1 0 2-.9 2-2V5c0-1.1-.9-2-2-2zM9 17H7v-7h2v7zm4 0h-2V7h2v10zm4 0h-2v-4h2v4z\"/>\n",
              "    </g>\n",
              "</svg>\n",
              "      </button>\n",
              "    </div>\n",
              "\n",
              "<style>\n",
              "  .colab-df-quickchart {\n",
              "    background-color: #E8F0FE;\n",
              "    border: none;\n",
              "    border-radius: 50%;\n",
              "    cursor: pointer;\n",
              "    display: none;\n",
              "    fill: #1967D2;\n",
              "    height: 32px;\n",
              "    padding: 0 0 0 0;\n",
              "    width: 32px;\n",
              "  }\n",
              "\n",
              "  .colab-df-quickchart:hover {\n",
              "    background-color: #E2EBFA;\n",
              "    box-shadow: 0px 1px 2px rgba(60, 64, 67, 0.3), 0px 1px 3px 1px rgba(60, 64, 67, 0.15);\n",
              "    fill: #174EA6;\n",
              "  }\n",
              "\n",
              "  [theme=dark] .colab-df-quickchart {\n",
              "    background-color: #3B4455;\n",
              "    fill: #D2E3FC;\n",
              "  }\n",
              "\n",
              "  [theme=dark] .colab-df-quickchart:hover {\n",
              "    background-color: #434B5C;\n",
              "    box-shadow: 0px 1px 3px 1px rgba(0, 0, 0, 0.15);\n",
              "    filter: drop-shadow(0px 1px 2px rgba(0, 0, 0, 0.3));\n",
              "    fill: #FFFFFF;\n",
              "  }\n",
              "</style>\n",
              "\n",
              "    <script>\n",
              "      async function quickchart(key) {\n",
              "        const containerElement = document.querySelector('#' + key);\n",
              "        const charts = await google.colab.kernel.invokeFunction(\n",
              "            'suggestCharts', [key], {});\n",
              "      }\n",
              "    </script>\n",
              "\n",
              "      <script>\n",
              "\n",
              "function displayQuickchartButton(domScope) {\n",
              "  let quickchartButtonEl =\n",
              "    domScope.querySelector('#df-5e3554bc-d7a8-4716-b14f-61945240b894 button.colab-df-quickchart');\n",
              "  quickchartButtonEl.style.display =\n",
              "    google.colab.kernel.accessAllowed ? 'block' : 'none';\n",
              "}\n",
              "\n",
              "        displayQuickchartButton(document);\n",
              "      </script>\n",
              "      <style>\n",
              "    .colab-df-container {\n",
              "      display:flex;\n",
              "      flex-wrap:wrap;\n",
              "      gap: 12px;\n",
              "    }\n",
              "\n",
              "    .colab-df-convert {\n",
              "      background-color: #E8F0FE;\n",
              "      border: none;\n",
              "      border-radius: 50%;\n",
              "      cursor: pointer;\n",
              "      display: none;\n",
              "      fill: #1967D2;\n",
              "      height: 32px;\n",
              "      padding: 0 0 0 0;\n",
              "      width: 32px;\n",
              "    }\n",
              "\n",
              "    .colab-df-convert:hover {\n",
              "      background-color: #E2EBFA;\n",
              "      box-shadow: 0px 1px 2px rgba(60, 64, 67, 0.3), 0px 1px 3px 1px rgba(60, 64, 67, 0.15);\n",
              "      fill: #174EA6;\n",
              "    }\n",
              "\n",
              "    [theme=dark] .colab-df-convert {\n",
              "      background-color: #3B4455;\n",
              "      fill: #D2E3FC;\n",
              "    }\n",
              "\n",
              "    [theme=dark] .colab-df-convert:hover {\n",
              "      background-color: #434B5C;\n",
              "      box-shadow: 0px 1px 3px 1px rgba(0, 0, 0, 0.15);\n",
              "      filter: drop-shadow(0px 1px 2px rgba(0, 0, 0, 0.3));\n",
              "      fill: #FFFFFF;\n",
              "    }\n",
              "  </style>\n",
              "\n",
              "      <script>\n",
              "        const buttonEl =\n",
              "          document.querySelector('#df-fc979779-7d90-43f3-8cdf-23576df5d833 button.colab-df-convert');\n",
              "        buttonEl.style.display =\n",
              "          google.colab.kernel.accessAllowed ? 'block' : 'none';\n",
              "\n",
              "        async function convertToInteractive(key) {\n",
              "          const element = document.querySelector('#df-fc979779-7d90-43f3-8cdf-23576df5d833');\n",
              "          const dataTable =\n",
              "            await google.colab.kernel.invokeFunction('convertToInteractive',\n",
              "                                                     [key], {});\n",
              "          if (!dataTable) return;\n",
              "\n",
              "          const docLinkHtml = 'Like what you see? Visit the ' +\n",
              "            '<a target=\"_blank\" href=https://colab.research.google.com/notebooks/data_table.ipynb>data table notebook</a>'\n",
              "            + ' to learn more about interactive tables.';\n",
              "          element.innerHTML = '';\n",
              "          dataTable['output_type'] = 'display_data';\n",
              "          await google.colab.output.renderOutput(dataTable, element);\n",
              "          const docLink = document.createElement('div');\n",
              "          docLink.innerHTML = docLinkHtml;\n",
              "          element.appendChild(docLink);\n",
              "        }\n",
              "      </script>\n",
              "    </div>\n",
              "  </div>\n"
            ]
          },
          "metadata": {},
          "execution_count": 6
        }
      ]
    },
    {
      "cell_type": "markdown",
      "source": [
        "## 1.¿Que paises son los que han evolucionado más en el campo de Derechos de Mujeres?"
      ],
      "metadata": {
        "id": "lHPMwQSOQc9c"
      }
    },
    {
      "cell_type": "code",
      "execution_count": null,
      "metadata": {
        "colab": {
          "base_uri": "https://localhost:8080/",
          "height": 401
        },
        "id": "t-uk4ZlWyTQH",
        "outputId": "9c109ae2-48c2-4c8d-8d0f-90968923ed20"
      },
      "outputs": [
        {
          "output_type": "execute_result",
          "data": {
            "text/plain": [
              "Text(0.5, 0, 'Region')"
            ]
          },
          "metadata": {},
          "execution_count": 7
        },
        {
          "output_type": "display_data",
          "data": {
            "text/plain": [
              "<Figure size 2880x1440 with 1 Axes>"
            ],
            "image/png": "[encoded data removed]"
          },
          "metadata": {
            "needs_background": "light"
          }
        }
      ],
      "source": [
        "fig, ax = plt.subplots(figsize=(40,20))\n",
        "ax.bar ( df1['Region'],df1['WBL INDEX'], alpha=0.7)\n",
        "ax.set_title('Indice WBL de acuerdo a region')\n",
        "ax.set_ylabel('Indice WBL')\n",
        "ax.set_xlabel('Region')\n"
      ]
    },
    {
      "cell_type": "markdown",
      "metadata": {
        "id": "iXAAA_vaY_BR"
      },
      "source": [
        "**En esta grafica se denota la diferencia entre regiones mas desarolladas en el campo de los derechos de mujeres.\n",
        "Podemos ver que Europa y Asia central, además de los paises integrantes de grandes ingresos OECD cuentan con mayor desarrollo que los demás paises.**\n"
      ]
    },
    {
      "cell_type": "markdown",
      "source": [
        "## 2.¿Tiene relación la clase social con el Desarrollo de Derechos?"
      ],
      "metadata": {
        "id": "X407ulqBRw7y"
      }
    },
    {
      "cell_type": "code",
      "execution_count": null,
      "metadata": {
        "colab": {
          "base_uri": "https://localhost:8080/",
          "height": 521
        },
        "id": "_qSuNWxtzTY8",
        "outputId": "a65b694b-2ea8-4f0c-bd76-e3fb0db0810d"
      },
      "outputs": [
        {
          "output_type": "execute_result",
          "data": {
            "text/plain": [
              "Text(0.5, 0, 'Segmentos de ingresos')"
            ]
          },
          "metadata": {},
          "execution_count": 35
        },
        {
          "output_type": "display_data",
          "data": {
            "text/plain": [
              "<Figure size 720x576 with 1 Axes>"
            ],
            "image/png": "[encoded data removed]"
          },
          "metadata": {
            "needs_background": "light"
          }
        }
      ],
      "source": [
        "fig, ax = plt.subplots(figsize=(10, 8))\n",
        "\n",
        "ax.barh(df1['Region'], df1['Income Group'])\n",
        "ax.set_title('Ingresos de acuerdo a Region')\n",
        "ax.set_ylabel('Region')\n",
        "ax.set_xlabel('Segmentos de ingresos')\n"
      ]
    },
    {
      "cell_type": "code",
      "execution_count": null,
      "metadata": {
        "colab": {
          "base_uri": "https://localhost:8080/",
          "height": 316
        },
        "id": "3fsDS7ogBP8Z",
        "outputId": "6dfc1fde-722f-4e4e-9c78-a35bc2c58a2c"
      },
      "outputs": [
        {
          "output_type": "execute_result",
          "data": {
            "text/plain": [
              "<Axes: xlabel='WBL INDEX', ylabel='Count'>"
            ]
          },
          "metadata": {},
          "execution_count": 11
        },
        {
          "output_type": "display_data",
          "data": {
            "text/plain": [
              "<Figure size 432x288 with 1 Axes>"
            ],
            "image/png": "[encoded data removed]"
          },
          "metadata": {
            "needs_background": "light"
          }
        }
      ],
      "source": [
        "sns.histplot(x = df1['WBL INDEX'], hue = df1['Income Group'], data= df1)"
      ]
    },
    {
      "cell_type": "markdown",
      "source": [
        "**Si bien en la primera grafica podemos notar que no existe una manera de afirmar si hay una verdadera relación entre clase social y desarrollo, sin cierto error, ya que Latinoamerica y el caribe no estan clasificados.\n",
        "Por medio de una segunda lectura notamos que si hya relación directa con el nivel de ingresos y el desarrollo de Derechos femeninos, así los grupos que más desarrollados se encuentran son grupos de clases de  ingresos altos y medios inclinados a altos.**\n"
      ],
      "metadata": {
        "id": "hkibZQmPyz0-"
      }
    },
    {
      "cell_type": "markdown",
      "source": [
        "## 3.Con respecto a la movilidad ¿Las mujeres han ganado más derechos?"
      ],
      "metadata": {
        "id": "VcgDTvom7hIT"
      }
    },
    {
      "cell_type": "code",
      "source": [
        "from seaborn import lmplot"
      ],
      "metadata": {
        "id": "5MGx8PY1j0w8"
      },
      "execution_count": null,
      "outputs": []
    },
    {
      "cell_type": "code",
      "source": [
        "lmplot(x=\"Report Year\", y=\"MOBILITY\", hue= \"Can a woman choose where to live in the same way as a man?\", data=df1)"
      ],
      "metadata": {
        "colab": {
          "base_uri": "https://localhost:8080/",
          "height": 406
        },
        "id": "tvBAeoh6kCwE",
        "outputId": "503a7420-6bf1-4440-9a40-57daafaabfdb"
      },
      "execution_count": null,
      "outputs": [
        {
          "output_type": "execute_result",
          "data": {
            "text/plain": [
              "<seaborn.axisgrid.FacetGrid at 0x7f4db3aed1c0>"
            ]
          },
          "metadata": {},
          "execution_count": 14
        },
        {
          "output_type": "display_data",
          "data": {
            "text/plain": [
              "<Figure size 681.625x360 with 1 Axes>"
            ],
            "image/png": "[encoded data removed]"
          },
          "metadata": {
            "needs_background": "light"
          }
        }
      ]
    },
    {
      "cell_type": "markdown",
      "source": [
        "**Tal como se puede ver, la respuesta más que con una variable de tiempo tiene que ver con la movilidad con la que cuentan estas mujeres.\n",
        "Así en grupos con menor movilidad la respuesta es negativa, inversamente de lo que sucede en grupos de más movilidad.\n",
        "Sin embargo se nota que hay aumento de libertad a partir de 1990, por lo que afirmamos que dependiendo la movilidad la respuesta será afirmativa o negativa.**\n"
      ],
      "metadata": {
        "id": "xJWjaYLt0xpQ"
      }
    },
    {
      "cell_type": "markdown",
      "source": [
        "###CORRELACION"
      ],
      "metadata": {
        "id": "XsE4c_ehWZ15"
      }
    },
    {
      "cell_type": "code",
      "source": [
        "from scipy import stats\n",
        "stats.pointbiserialr(df1['MOBILITY'], df1['Report Year'])"
      ],
      "metadata": {
        "colab": {
          "base_uri": "https://localhost:8080/"
        },
        "id": "ICD3hHWOWKWw",
        "outputId": "e7d0bf79-1c04-452c-c3eb-58ee601590b9"
      },
      "execution_count": null,
      "outputs": [
        {
          "output_type": "execute_result",
          "data": {
            "text/plain": [
              "SignificanceResult(statistic=0.14134351369613163, pvalue=4.258527682489694e-46)"
            ]
          },
          "metadata": {},
          "execution_count": 30
        }
      ]
    },
    {
      "cell_type": "markdown",
      "source": [
        "**En este caso y de acuerdo al resultado podemos ver que si existe una correlacion directa en la evolucion de la movilidad y el paso del tiempo.**"
      ],
      "metadata": {
        "id": "GJEDHAohWY1z"
      }
    },
    {
      "cell_type": "markdown",
      "source": [
        "## 4.¿Tienen los hombres y las mujeres los mismos derechos de propiedad sobre los bienes inmuebles?"
      ],
      "metadata": {
        "id": "89oZAZA68VnD"
      }
    },
    {
      "cell_type": "code",
      "source": [
        "lmplot(x=\"Report Year\", y=\"ASSETS\", hue=\"Do men and women have equal ownership rights to immovable property?\", data=df1)"
      ],
      "metadata": {
        "colab": {
          "base_uri": "https://localhost:8080/",
          "height": 406
        },
        "id": "M93utE_l8883",
        "outputId": "db23184b-8d0c-4ee9-9570-de0d87839d6f"
      },
      "execution_count": null,
      "outputs": [
        {
          "output_type": "execute_result",
          "data": {
            "text/plain": [
              "<seaborn.axisgrid.FacetGrid at 0x7f4db38ae910>"
            ]
          },
          "metadata": {},
          "execution_count": 16
        },
        {
          "output_type": "display_data",
          "data": {
            "text/plain": [
              "<Figure size 735.875x360 with 1 Axes>"
            ],
            "image/png": "[encoded data removed]"
          },
          "metadata": {
            "needs_background": "light"
          }
        }
      ]
    },
    {
      "cell_type": "markdown",
      "source": [
        "**Al igual que en la pregunta anterior, la respuesta más que con una variable de tiempo tiene que ver con la movilidad con la que cuentan estas mujeres.\n",
        "A partir del 2000 solo en segmentos desarrollados altos  las mujeres afirman tener igualdad, sin embargo en la mayoria de los segmentos e historicamente sigue siendo un sector para tomar acciones y alcanzar la igualdad.**\n",
        "\n"
      ],
      "metadata": {
        "id": "RPJt-olJ99js"
      }
    },
    {
      "cell_type": "markdown",
      "source": [
        "###CORRELACION"
      ],
      "metadata": {
        "id": "KqFJxRyhXEQi"
      }
    },
    {
      "cell_type": "code",
      "source": [
        "from scipy import stats\n",
        "stats.pointbiserialr(df1['ASSETS'], df1['Report Year'])"
      ],
      "metadata": {
        "colab": {
          "base_uri": "https://localhost:8080/"
        },
        "id": "C8nD5r3wXIwy",
        "outputId": "5ade431c-2a8a-41af-f9a7-79ccc32a44b5"
      },
      "execution_count": null,
      "outputs": [
        {
          "output_type": "execute_result",
          "data": {
            "text/plain": [
              "SignificanceResult(statistic=0.19134892195060077, pvalue=1.1679904951654972e-83)"
            ]
          },
          "metadata": {},
          "execution_count": 31
        }
      ]
    },
    {
      "cell_type": "markdown",
      "source": [
        "**Al igual que el punto anterior podemos ver que si existe una correlacion directa en el desarrollo y evolucion de los derechos de propiedad privada y el paso del tiempo.**"
      ],
      "metadata": {
        "id": "kzu84M7_XSrd"
      }
    },
    {
      "cell_type": "markdown",
      "source": [
        "## 5.Con respecto a la Libertad Economica ¿Ha habido una evolución favorecedora?"
      ],
      "metadata": {
        "id": "8H6F2OIV-oGu"
      }
    },
    {
      "cell_type": "code",
      "source": [
        "lmplot(x=\"Report Year\", y=\"PAY\", hue=\"Does the law mandate equal remuneration for work of equal value?\", data=df1)"
      ],
      "metadata": {
        "colab": {
          "base_uri": "https://localhost:8080/",
          "height": 406
        },
        "id": "vDO5jAEnkiUX",
        "outputId": "e7805f89-fcad-4279-af86-d24d45a468c3"
      },
      "execution_count": null,
      "outputs": [
        {
          "output_type": "execute_result",
          "data": {
            "text/plain": [
              "<seaborn.axisgrid.FacetGrid at 0x7f4df54ccd30>"
            ]
          },
          "metadata": {},
          "execution_count": 17
        },
        {
          "output_type": "display_data",
          "data": {
            "text/plain": [
              "<Figure size 706.125x360 with 1 Axes>"
            ],
            "image/png": "[encoded data removed]"
          },
          "metadata": {
            "needs_background": "light"
          }
        }
      ]
    },
    {
      "cell_type": "code",
      "source": [
        "lmplot(x=\"Report Year\", y=\"ENTREPRENEURSHIP\", hue=\"Can a woman register a business in the same way as a man?\", data=df1)"
      ],
      "metadata": {
        "colab": {
          "base_uri": "https://localhost:8080/",
          "height": 406
        },
        "id": "Hw9ZhyJB2Ayf",
        "outputId": "4edccde3-16b1-461b-c40e-7293e9293b71"
      },
      "execution_count": null,
      "outputs": [
        {
          "output_type": "execute_result",
          "data": {
            "text/plain": [
              "<seaborn.axisgrid.FacetGrid at 0x7f4df54786a0>"
            ]
          },
          "metadata": {},
          "execution_count": 18
        },
        {
          "output_type": "display_data",
          "data": {
            "text/plain": [
              "<Figure size 673.5x360 with 1 Axes>"
            ],
            "image/png": "[encoded data removed]"
          },
          "metadata": {
            "needs_background": "light"
          }
        }
      ]
    },
    {
      "cell_type": "markdown",
      "source": [
        "**Bajo el análisis de dos puntos, si hubo una evolución favorecedora de libertades pero que ha beneficiados más a mujeres dependientes de alguna empresa, mientras que en mujeres emprendedoras independiente no hubo una evolución historica favorecedora, si excepcionalmente  en casos de desarrollo alto.**\n",
        "\n"
      ],
      "metadata": {
        "id": "ma2QRBEt2Z81"
      }
    },
    {
      "cell_type": "markdown",
      "source": [
        "###CORRELACION"
      ],
      "metadata": {
        "id": "PNl6uWmOXlel"
      }
    },
    {
      "cell_type": "code",
      "source": [
        "matthews_corrcoef(df1['PAY'], df1['ENTREPRENEURSHIP'])"
      ],
      "metadata": {
        "colab": {
          "base_uri": "https://localhost:8080/"
        },
        "id": "5Yvj2DPsXo-U",
        "outputId": "93f03aa8-c153-4074-f8c3-066c84f3675e"
      },
      "execution_count": null,
      "outputs": [
        {
          "output_type": "execute_result",
          "data": {
            "text/plain": [
              "0.04203474792559552"
            ]
          },
          "metadata": {},
          "execution_count": 32
        }
      ]
    },
    {
      "cell_type": "markdown",
      "source": [
        "**El resultado de la correlacion nos demuestra que la relacion si bien no llega a ser inversamente proporcional pero no existe la correlacion perfecta entre estas variables."
      ],
      "metadata": {
        "id": "AlNDXTgcXq5d"
      }
    },
    {
      "cell_type": "markdown",
      "source": [
        "## 6.¿La edad a la que hombres y mujeres pueden jubilarse con pensión completa es la misma?"
      ],
      "metadata": {
        "id": "LlFMIsS__uMn"
      }
    },
    {
      "cell_type": "code",
      "source": [
        "lmplot(x=\"Report Year\", y=\"PENSION\", hue=\"Is the age at which men and women can retire with full pension benefits the same?\", data=df1)"
      ],
      "metadata": {
        "colab": {
          "base_uri": "https://localhost:8080/",
          "height": 391
        },
        "id": "HRgZq2KEBuK2",
        "outputId": "ddb2c29a-a28a-4c9b-ee91-1c8b5844e315"
      },
      "execution_count": null,
      "outputs": [
        {
          "output_type": "execute_result",
          "data": {
            "text/plain": [
              "<seaborn.axisgrid.FacetGrid at 0x7f4db37f9310>"
            ]
          },
          "metadata": {},
          "execution_count": 24
        },
        {
          "output_type": "display_data",
          "data": {
            "text/plain": [
              "<Figure size 784.75x360 with 1 Axes>"
            ],
            "image/png": "[encoded data removed]"
          },
          "metadata": {
            "needs_background": "light"
          }
        }
      ]
    },
    {
      "cell_type": "markdown",
      "source": [
        "**La respuesta es parcialmente afirmativa, ya que también depende de que sector se trate. En el 20% correspondiente a los menos desarrollados la edad continua siendo distinta.**\n"
      ],
      "metadata": {
        "id": "taA3hTqWCCZE"
      }
    },
    {
      "cell_type": "markdown",
      "source": [
        "#MACHINE LEARNIG REGRESION LINEAR\n",
        "PREDICCION DE INDICE WBL"
      ],
      "metadata": {
        "id": "ez59b1pepr4R"
      }
    },
    {
      "cell_type": "code",
      "source": [
        "from sklearn import datasets\n",
        "from sklearn.linear_model import LinearRegression\n",
        "import numpy as np"
      ],
      "metadata": {
        "id": "KHu9sshYpu-M"
      },
      "execution_count": 7,
      "outputs": []
    },
    {
      "cell_type": "code",
      "source": [
        "X = df1[['MOBILITY', 'PENSION', 'MARRIAGE','WORKPLACE']]\n",
        "y = df1['WBL INDEX']"
      ],
      "metadata": {
        "id": "cbMdS9vH7x3l"
      },
      "execution_count": 8,
      "outputs": []
    },
    {
      "cell_type": "code",
      "source": [
        "from sklearn.model_selection import train_test_split\n",
        "X_train, X_test, y_train, y_test = train_test_split(X, y, test_size=0.2, random_state=42)"
      ],
      "metadata": {
        "id": "pszfaOrB8Qsy"
      },
      "execution_count": 9,
      "outputs": []
    },
    {
      "cell_type": "code",
      "source": [
        "from sklearn.linear_model import LinearRegression\n",
        "regressor = LinearRegression()\n",
        "regressor.fit(X_train, y_train)"
      ],
      "metadata": {
        "colab": {
          "base_uri": "https://localhost:8080/",
          "height": 75
        },
        "id": "N9pTArq18VJ6",
        "outputId": "4b1990b5-fd64-46c1-bb57-cf0b5d3221fb"
      },
      "execution_count": 10,
      "outputs": [
        {
          "output_type": "execute_result",
          "data": {
            "text/plain": [
              "LinearRegression()"
            ],
            "text/html": [
              "<style>#sk-container-id-1 {color: black;background-color: white;}#sk-container-id-1 pre{padding: 0;}#sk-container-id-1 div.sk-toggleable {background-color: white;}#sk-container-id-1 label.sk-toggleable__label {cursor: pointer;display: block;width: 100%;margin-bottom: 0;padding: 0.3em;box-sizing: border-box;text-align: center;}#sk-container-id-1 label.sk-toggleable__label-arrow:before {content: \"▸\";float: left;margin-right: 0.25em;color: #696969;}#sk-container-id-1 label.sk-toggleable__label-arrow:hover:before {color: black;}#sk-container-id-1 div.sk-estimator:hover label.sk-toggleable__label-arrow:before {color: black;}#sk-container-id-1 div.sk-toggleable__content {max-height: 0;max-width: 0;overflow: hidden;text-align: left;background-color: #f0f8ff;}#sk-container-id-1 div.sk-toggleable__content pre {margin: 0.2em;color: black;border-radius: 0.25em;background-color: #f0f8ff;}#sk-container-id-1 input.sk-toggleable__control:checked~div.sk-toggleable__content {max-height: 200px;max-width: 100%;overflow: auto;}#sk-container-id-1 input.sk-toggleable__control:checked~label.sk-toggleable__label-arrow:before {content: \"▾\";}#sk-container-id-1 div.sk-estimator input.sk-toggleable__control:checked~label.sk-toggleable__label {background-color: #d4ebff;}#sk-container-id-1 div.sk-label input.sk-toggleable__control:checked~label.sk-toggleable__label {background-color: #d4ebff;}#sk-container-id-1 input.sk-hidden--visually {border: 0;clip: rect(1px 1px 1px 1px);clip: rect(1px, 1px, 1px, 1px);height: 1px;margin: -1px;overflow: hidden;padding: 0;position: absolute;width: 1px;}#sk-container-id-1 div.sk-estimator {font-family: monospace;background-color: #f0f8ff;border: 1px dotted black;border-radius: 0.25em;box-sizing: border-box;margin-bottom: 0.5em;}#sk-container-id-1 div.sk-estimator:hover {background-color: #d4ebff;}#sk-container-id-1 div.sk-parallel-item::after {content: \"\";width: 100%;border-bottom: 1px solid gray;flex-grow: 1;}#sk-container-id-1 div.sk-label:hover label.sk-toggleable__label {background-color: #d4ebff;}#sk-container-id-1 div.sk-serial::before {content: \"\";position: absolute;border-left: 1px solid gray;box-sizing: border-box;top: 0;bottom: 0;left: 50%;z-index: 0;}#sk-container-id-1 div.sk-serial {display: flex;flex-direction: column;align-items: center;background-color: white;padding-right: 0.2em;padding-left: 0.2em;position: relative;}#sk-container-id-1 div.sk-item {position: relative;z-index: 1;}#sk-container-id-1 div.sk-parallel {display: flex;align-items: stretch;justify-content: center;background-color: white;position: relative;}#sk-container-id-1 div.sk-item::before, #sk-container-id-1 div.sk-parallel-item::before {content: \"\";position: absolute;border-left: 1px solid gray;box-sizing: border-box;top: 0;bottom: 0;left: 50%;z-index: -1;}#sk-container-id-1 div.sk-parallel-item {display: flex;flex-direction: column;z-index: 1;position: relative;background-color: white;}#sk-container-id-1 div.sk-parallel-item:first-child::after {align-self: flex-end;width: 50%;}#sk-container-id-1 div.sk-parallel-item:last-child::after {align-self: flex-start;width: 50%;}#sk-container-id-1 div.sk-parallel-item:only-child::after {width: 0;}#sk-container-id-1 div.sk-dashed-wrapped {border: 1px dashed gray;margin: 0 0.4em 0.5em 0.4em;box-sizing: border-box;padding-bottom: 0.4em;background-color: white;}#sk-container-id-1 div.sk-label label {font-family: monospace;font-weight: bold;display: inline-block;line-height: 1.2em;}#sk-container-id-1 div.sk-label-container {text-align: center;}#sk-container-id-1 div.sk-container {/* jupyter's `normalize.less` sets `[hidden] { display: none; }` but bootstrap.min.css set `[hidden] { display: none !important; }` so we also need the `!important` here to be able to override the default hidden behavior on the sphinx rendered scikit-learn.org. See: https://github.com/scikit-learn/scikit-learn/issues/21755 */display: inline-block !important;position: relative;}#sk-container-id-1 div.sk-text-repr-fallback {display: none;}</style><div id=\"sk-container-id-1\" class=\"sk-top-container\"><div class=\"sk-text-repr-fallback\"><pre>LinearRegression()</pre><b>In a Jupyter environment, please rerun this cell to show the HTML representation or trust the notebook. <br />On GitHub, the HTML representation is unable to render, please try loading this page with nbviewer.org.</b></div><div class=\"sk-container\" hidden><div class=\"sk-item\"><div class=\"sk-estimator sk-toggleable\"><input class=\"sk-toggleable__control sk-hidden--visually\" id=\"sk-estimator-id-1\" type=\"checkbox\" checked><label for=\"sk-estimator-id-1\" class=\"sk-toggleable__label sk-toggleable__label-arrow\">LinearRegression</label><div class=\"sk-toggleable__content\"><pre>LinearRegression()</pre></div></div></div></div></div>"
            ]
          },
          "metadata": {},
          "execution_count": 10
        }
      ]
    },
    {
      "cell_type": "code",
      "source": [
        "regressor.coef_"
      ],
      "metadata": {
        "colab": {
          "base_uri": "https://localhost:8080/"
        },
        "id": "vSmEgWL88bfZ",
        "outputId": "f654155e-e532-4a65-a86a-039c1293af4a"
      },
      "execution_count": 11,
      "outputs": [
        {
          "output_type": "execute_result",
          "data": {
            "text/plain": [
              "array([0.179077  , 0.15681861, 0.20197522, 0.26377961])"
            ]
          },
          "metadata": {},
          "execution_count": 11
        }
      ]
    },
    {
      "cell_type": "code",
      "source": [
        "regressor.intercept_"
      ],
      "metadata": {
        "colab": {
          "base_uri": "https://localhost:8080/"
        },
        "id": "hDDSz6U88e3P",
        "outputId": "9bbefbcb-9e9e-4996-f5b1-a2c4a3b4baba"
      },
      "execution_count": 12,
      "outputs": [
        {
          "output_type": "execute_result",
          "data": {
            "text/plain": [
              "11.483380192075806"
            ]
          },
          "metadata": {},
          "execution_count": 12
        }
      ]
    },
    {
      "cell_type": "code",
      "source": [
        "coeff_df = pd.DataFrame(regressor.coef_, X.columns, columns=['Coefficient'])\n",
        "coeff_df"
      ],
      "metadata": {
        "colab": {
          "base_uri": "https://localhost:8080/",
          "height": 175
        },
        "id": "HffzpTeB8oQm",
        "outputId": "618f78a5-3e35-4ccc-b95f-2fcfe35ae786"
      },
      "execution_count": 13,
      "outputs": [
        {
          "output_type": "execute_result",
          "data": {
            "text/plain": [
              "           Coefficient\n",
              "MOBILITY      0.179077\n",
              "PENSION       0.156819\n",
              "MARRIAGE      0.201975\n",
              "WORKPLACE     0.263780"
            ],
            "text/html": [
              "\n",
              "\n",
              "  <div id=\"df-8e99fc4d-26b5-46eb-923b-f6e66595ffc9\">\n",
              "    <div class=\"colab-df-container\">\n",
              "      <div>\n",
              "<style scoped>\n",
              "    .dataframe tbody tr th:only-of-type {\n",
              "        vertical-align: middle;\n",
              "    }\n",
              "\n",
              "    .dataframe tbody tr th {\n",
              "        vertical-align: top;\n",
              "    }\n",
              "\n",
              "    .dataframe thead th {\n",
              "        text-align: right;\n",
              "    }\n",
              "</style>\n",
              "<table border=\"1\" class=\"dataframe\">\n",
              "  <thead>\n",
              "    <tr style=\"text-align: right;\">\n",
              "      <th></th>\n",
              "      <th>Coefficient</th>\n",
              "    </tr>\n",
              "  </thead>\n",
              "  <tbody>\n",
              "    <tr>\n",
              "      <th>MOBILITY</th>\n",
              "      <td>0.179077</td>\n",
              "    </tr>\n",
              "    <tr>\n",
              "      <th>PENSION</th>\n",
              "      <td>0.156819</td>\n",
              "    </tr>\n",
              "    <tr>\n",
              "      <th>MARRIAGE</th>\n",
              "      <td>0.201975</td>\n",
              "    </tr>\n",
              "    <tr>\n",
              "      <th>WORKPLACE</th>\n",
              "      <td>0.263780</td>\n",
              "    </tr>\n",
              "  </tbody>\n",
              "</table>\n",
              "</div>\n",
              "      <button class=\"colab-df-convert\" onclick=\"convertToInteractive('df-8e99fc4d-26b5-46eb-923b-f6e66595ffc9')\"\n",
              "              title=\"Convert this dataframe to an interactive table.\"\n",
              "              style=\"display:none;\">\n",
              "\n",
              "  <svg xmlns=\"http://www.w3.org/2000/svg\" height=\"24px\"viewBox=\"0 0 24 24\"\n",
              "       width=\"24px\">\n",
              "    <path d=\"M0 0h24v24H0V0z\" fill=\"none\"/>\n",
              "    <path d=\"M18.56 5.44l.94 2.06.94-2.06 2.06-.94-2.06-.94-.94-2.06-.94 2.06-2.06.94zm-11 1L8.5 8.5l.94-2.06 2.06-.94-2.06-.94L8.5 2.5l-.94 2.06-2.06.94zm10 10l.94 2.06.94-2.06 2.06-.94-2.06-.94-.94-2.06-.94 2.06-2.06.94z\"/><path d=\"M17.41 7.96l-1.37-1.37c-.4-.4-.92-.59-1.43-.59-.52 0-1.04.2-1.43.59L10.3 9.45l-7.72 7.72c-.78.78-.78 2.05 0 2.83L4 21.41c.39.39.9.59 1.41.59.51 0 1.02-.2 1.41-.59l7.78-7.78 2.81-2.81c.8-.78.8-2.07 0-2.86zM5.41 20L4 18.59l7.72-7.72 1.47 1.35L5.41 20z\"/>\n",
              "  </svg>\n",
              "      </button>\n",
              "\n",
              "\n",
              "\n",
              "    <div id=\"df-2e1ddafd-b037-400b-88c3-71d0571ba841\">\n",
              "      <button class=\"colab-df-quickchart\" onclick=\"quickchart('df-2e1ddafd-b037-400b-88c3-71d0571ba841')\"\n",
              "              title=\"Suggest charts.\"\n",
              "              style=\"display:none;\">\n",
              "\n",
              "<svg xmlns=\"http://www.w3.org/2000/svg\" height=\"24px\"viewBox=\"0 0 24 24\"\n",
              "     width=\"24px\">\n",
              "    <g>\n",
              "        <path d=\"M19 3H5c-1.1 0-2 .9-2 2v14c0 1.1.9 2 2 2h14c1.1 0 2-.9 2-2V5c0-1.1-.9-2-2-2zM9 17H7v-7h2v7zm4 0h-2V7h2v10zm4 0h-2v-4h2v4z\"/>\n",
              "    </g>\n",
              "</svg>\n",
              "      </button>\n",
              "    </div>\n",
              "\n",
              "<style>\n",
              "  .colab-df-quickchart {\n",
              "    background-color: #E8F0FE;\n",
              "    border: none;\n",
              "    border-radius: 50%;\n",
              "    cursor: pointer;\n",
              "    display: none;\n",
              "    fill: #1967D2;\n",
              "    height: 32px;\n",
              "    padding: 0 0 0 0;\n",
              "    width: 32px;\n",
              "  }\n",
              "\n",
              "  .colab-df-quickchart:hover {\n",
              "    background-color: #E2EBFA;\n",
              "    box-shadow: 0px 1px 2px rgba(60, 64, 67, 0.3), 0px 1px 3px 1px rgba(60, 64, 67, 0.15);\n",
              "    fill: #174EA6;\n",
              "  }\n",
              "\n",
              "  [theme=dark] .colab-df-quickchart {\n",
              "    background-color: #3B4455;\n",
              "    fill: #D2E3FC;\n",
              "  }\n",
              "\n",
              "  [theme=dark] .colab-df-quickchart:hover {\n",
              "    background-color: #434B5C;\n",
              "    box-shadow: 0px 1px 3px 1px rgba(0, 0, 0, 0.15);\n",
              "    filter: drop-shadow(0px 1px 2px rgba(0, 0, 0, 0.3));\n",
              "    fill: #FFFFFF;\n",
              "  }\n",
              "</style>\n",
              "\n",
              "    <script>\n",
              "      async function quickchart(key) {\n",
              "        const containerElement = document.querySelector('#' + key);\n",
              "        const charts = await google.colab.kernel.invokeFunction(\n",
              "            'suggestCharts', [key], {});\n",
              "      }\n",
              "    </script>\n",
              "\n",
              "      <script>\n",
              "\n",
              "function displayQuickchartButton(domScope) {\n",
              "  let quickchartButtonEl =\n",
              "    domScope.querySelector('#df-2e1ddafd-b037-400b-88c3-71d0571ba841 button.colab-df-quickchart');\n",
              "  quickchartButtonEl.style.display =\n",
              "    google.colab.kernel.accessAllowed ? 'block' : 'none';\n",
              "}\n",
              "\n",
              "        displayQuickchartButton(document);\n",
              "      </script>\n",
              "      <style>\n",
              "    .colab-df-container {\n",
              "      display:flex;\n",
              "      flex-wrap:wrap;\n",
              "      gap: 12px;\n",
              "    }\n",
              "\n",
              "    .colab-df-convert {\n",
              "      background-color: #E8F0FE;\n",
              "      border: none;\n",
              "      border-radius: 50%;\n",
              "      cursor: pointer;\n",
              "      display: none;\n",
              "      fill: #1967D2;\n",
              "      height: 32px;\n",
              "      padding: 0 0 0 0;\n",
              "      width: 32px;\n",
              "    }\n",
              "\n",
              "    .colab-df-convert:hover {\n",
              "      background-color: #E2EBFA;\n",
              "      box-shadow: 0px 1px 2px rgba(60, 64, 67, 0.3), 0px 1px 3px 1px rgba(60, 64, 67, 0.15);\n",
              "      fill: #174EA6;\n",
              "    }\n",
              "\n",
              "    [theme=dark] .colab-df-convert {\n",
              "      background-color: #3B4455;\n",
              "      fill: #D2E3FC;\n",
              "    }\n",
              "\n",
              "    [theme=dark] .colab-df-convert:hover {\n",
              "      background-color: #434B5C;\n",
              "      box-shadow: 0px 1px 3px 1px rgba(0, 0, 0, 0.15);\n",
              "      filter: drop-shadow(0px 1px 2px rgba(0, 0, 0, 0.3));\n",
              "      fill: #FFFFFF;\n",
              "    }\n",
              "  </style>\n",
              "\n",
              "      <script>\n",
              "        const buttonEl =\n",
              "          document.querySelector('#df-8e99fc4d-26b5-46eb-923b-f6e66595ffc9 button.colab-df-convert');\n",
              "        buttonEl.style.display =\n",
              "          google.colab.kernel.accessAllowed ? 'block' : 'none';\n",
              "\n",
              "        async function convertToInteractive(key) {\n",
              "          const element = document.querySelector('#df-8e99fc4d-26b5-46eb-923b-f6e66595ffc9');\n",
              "          const dataTable =\n",
              "            await google.colab.kernel.invokeFunction('convertToInteractive',\n",
              "                                                     [key], {});\n",
              "          if (!dataTable) return;\n",
              "\n",
              "          const docLinkHtml = 'Like what you see? Visit the ' +\n",
              "            '<a target=\"_blank\" href=https://colab.research.google.com/notebooks/data_table.ipynb>data table notebook</a>'\n",
              "            + ' to learn more about interactive tables.';\n",
              "          element.innerHTML = '';\n",
              "          dataTable['output_type'] = 'display_data';\n",
              "          await google.colab.output.renderOutput(dataTable, element);\n",
              "          const docLink = document.createElement('div');\n",
              "          docLink.innerHTML = docLinkHtml;\n",
              "          element.appendChild(docLink);\n",
              "        }\n",
              "      </script>\n",
              "    </div>\n",
              "  </div>\n"
            ]
          },
          "metadata": {},
          "execution_count": 13
        }
      ]
    },
    {
      "cell_type": "code",
      "source": [
        "y_pred = regressor.predict(X_test)\n",
        "y_pred"
      ],
      "metadata": {
        "colab": {
          "base_uri": "https://localhost:8080/"
        },
        "id": "vcmn_Xfb8snu",
        "outputId": "3761161b-786d-47d2-c2ff-dda78f2fca81"
      },
      "execution_count": 14,
      "outputs": [
        {
          "output_type": "execute_result",
          "data": {
            "text/plain": [
              "array([36.47620886, 56.06405347, 56.06405347, ..., 23.80123575,\n",
              "       43.82650088, 56.06405347])"
            ]
          },
          "metadata": {},
          "execution_count": 14
        }
      ]
    },
    {
      "cell_type": "code",
      "source": [
        "y_test"
      ],
      "metadata": {
        "colab": {
          "base_uri": "https://localhost:8080/"
        },
        "id": "AAPNOufs8wJQ",
        "outputId": "fadc72b4-fc4b-4946-dc1c-da26389e0edf"
      },
      "execution_count": null,
      "outputs": [
        {
          "output_type": "execute_result",
          "data": {
            "text/plain": [
              "1121    22.500\n",
              "318     55.625\n",
              "9133    50.000\n",
              "1149    61.250\n",
              "33      26.250\n",
              "         ...  \n",
              "964     55.000\n",
              "4731    67.500\n",
              "605     26.250\n",
              "5684    41.875\n",
              "8861    58.125\n",
              "Name: WBL INDEX, Length: 2014, dtype: float64"
            ]
          },
          "metadata": {},
          "execution_count": 48
        }
      ]
    },
    {
      "cell_type": "code",
      "source": [
        "df = pd.DataFrame({'Actual': y_test, 'Predicted': y_pred})\n",
        "df['Sesgo']=df.Actual -df.Predicted\n",
        "df['Error_porc']=((df.Actual -df.Predicted)/df.Actual) *100\n",
        "df"
      ],
      "metadata": {
        "colab": {
          "base_uri": "https://localhost:8080/",
          "height": 413
        },
        "id": "RlbbyBiF81Ux",
        "outputId": "250d65b0-aa11-4240-a572-fa6954eb2b1e"
      },
      "execution_count": null,
      "outputs": [
        {
          "output_type": "execute_result",
          "data": {
            "text/plain": [
              "      Actual  Predicted      Sesgo  Error_porc\n",
              "1121  22.500  36.476209 -13.976209  -62.116484\n",
              "318   55.625  56.064053  -0.439053   -0.789310\n",
              "9133  50.000  56.064053  -6.064053  -12.128107\n",
              "1149  61.250  63.348524  -2.098524   -3.426162\n",
              "33    26.250  30.514765  -4.264765  -16.246724\n",
              "...      ...        ...        ...         ...\n",
              "964   55.000  52.024549   2.975451    5.409911\n",
              "4731  67.500  56.064053  11.435947   16.942143\n",
              "605   26.250  23.801236   2.448764    9.328626\n",
              "5684  41.875  43.826501  -1.951501   -4.660301\n",
              "8861  58.125  56.064053   2.060947    3.545714\n",
              "\n",
              "[2014 rows x 4 columns]"
            ],
            "text/html": [
              "\n",
              "  <div id=\"df-faba4c9c-d9c7-4297-b841-ada48161a754\">\n",
              "    <div class=\"colab-df-container\">\n",
              "      <div>\n",
              "<style scoped>\n",
              "    .dataframe tbody tr th:only-of-type {\n",
              "        vertical-align: middle;\n",
              "    }\n",
              "\n",
              "    .dataframe tbody tr th {\n",
              "        vertical-align: top;\n",
              "    }\n",
              "\n",
              "    .dataframe thead th {\n",
              "        text-align: right;\n",
              "    }\n",
              "</style>\n",
              "<table border=\"1\" class=\"dataframe\">\n",
              "  <thead>\n",
              "    <tr style=\"text-align: right;\">\n",
              "      <th></th>\n",
              "      <th>Actual</th>\n",
              "      <th>Predicted</th>\n",
              "      <th>Sesgo</th>\n",
              "      <th>Error_porc</th>\n",
              "    </tr>\n",
              "  </thead>\n",
              "  <tbody>\n",
              "    <tr>\n",
              "      <th>1121</th>\n",
              "      <td>22.500</td>\n",
              "      <td>36.476209</td>\n",
              "      <td>-13.976209</td>\n",
              "      <td>-62.116484</td>\n",
              "    </tr>\n",
              "    <tr>\n",
              "      <th>318</th>\n",
              "      <td>55.625</td>\n",
              "      <td>56.064053</td>\n",
              "      <td>-0.439053</td>\n",
              "      <td>-0.789310</td>\n",
              "    </tr>\n",
              "    <tr>\n",
              "      <th>9133</th>\n",
              "      <td>50.000</td>\n",
              "      <td>56.064053</td>\n",
              "      <td>-6.064053</td>\n",
              "      <td>-12.128107</td>\n",
              "    </tr>\n",
              "    <tr>\n",
              "      <th>1149</th>\n",
              "      <td>61.250</td>\n",
              "      <td>63.348524</td>\n",
              "      <td>-2.098524</td>\n",
              "      <td>-3.426162</td>\n",
              "    </tr>\n",
              "    <tr>\n",
              "      <th>33</th>\n",
              "      <td>26.250</td>\n",
              "      <td>30.514765</td>\n",
              "      <td>-4.264765</td>\n",
              "      <td>-16.246724</td>\n",
              "    </tr>\n",
              "    <tr>\n",
              "      <th>...</th>\n",
              "      <td>...</td>\n",
              "      <td>...</td>\n",
              "      <td>...</td>\n",
              "      <td>...</td>\n",
              "    </tr>\n",
              "    <tr>\n",
              "      <th>964</th>\n",
              "      <td>55.000</td>\n",
              "      <td>52.024549</td>\n",
              "      <td>2.975451</td>\n",
              "      <td>5.409911</td>\n",
              "    </tr>\n",
              "    <tr>\n",
              "      <th>4731</th>\n",
              "      <td>67.500</td>\n",
              "      <td>56.064053</td>\n",
              "      <td>11.435947</td>\n",
              "      <td>16.942143</td>\n",
              "    </tr>\n",
              "    <tr>\n",
              "      <th>605</th>\n",
              "      <td>26.250</td>\n",
              "      <td>23.801236</td>\n",
              "      <td>2.448764</td>\n",
              "      <td>9.328626</td>\n",
              "    </tr>\n",
              "    <tr>\n",
              "      <th>5684</th>\n",
              "      <td>41.875</td>\n",
              "      <td>43.826501</td>\n",
              "      <td>-1.951501</td>\n",
              "      <td>-4.660301</td>\n",
              "    </tr>\n",
              "    <tr>\n",
              "      <th>8861</th>\n",
              "      <td>58.125</td>\n",
              "      <td>56.064053</td>\n",
              "      <td>2.060947</td>\n",
              "      <td>3.545714</td>\n",
              "    </tr>\n",
              "  </tbody>\n",
              "</table>\n",
              "<p>2014 rows × 4 columns</p>\n",
              "</div>\n",
              "      <button class=\"colab-df-convert\" onclick=\"convertToInteractive('df-faba4c9c-d9c7-4297-b841-ada48161a754')\"\n",
              "              title=\"Convert this dataframe to an interactive table.\"\n",
              "              style=\"display:none;\">\n",
              "        \n",
              "  <svg xmlns=\"http://www.w3.org/2000/svg\" height=\"24px\"viewBox=\"0 0 24 24\"\n",
              "       width=\"24px\">\n",
              "    <path d=\"M0 0h24v24H0V0z\" fill=\"none\"/>\n",
              "    <path d=\"M18.56 5.44l.94 2.06.94-2.06 2.06-.94-2.06-.94-.94-2.06-.94 2.06-2.06.94zm-11 1L8.5 8.5l.94-2.06 2.06-.94-2.06-.94L8.5 2.5l-.94 2.06-2.06.94zm10 10l.94 2.06.94-2.06 2.06-.94-2.06-.94-.94-2.06-.94 2.06-2.06.94z\"/><path d=\"M17.41 7.96l-1.37-1.37c-.4-.4-.92-.59-1.43-.59-.52 0-1.04.2-1.43.59L10.3 9.45l-7.72 7.72c-.78.78-.78 2.05 0 2.83L4 21.41c.39.39.9.59 1.41.59.51 0 1.02-.2 1.41-.59l7.78-7.78 2.81-2.81c.8-.78.8-2.07 0-2.86zM5.41 20L4 18.59l7.72-7.72 1.47 1.35L5.41 20z\"/>\n",
              "  </svg>\n",
              "      </button>\n",
              "      \n",
              "  <style>\n",
              "    .colab-df-container {\n",
              "      display:flex;\n",
              "      flex-wrap:wrap;\n",
              "      gap: 12px;\n",
              "    }\n",
              "\n",
              "    .colab-df-convert {\n",
              "      background-color: #E8F0FE;\n",
              "      border: none;\n",
              "      border-radius: 50%;\n",
              "      cursor: pointer;\n",
              "      display: none;\n",
              "      fill: #1967D2;\n",
              "      height: 32px;\n",
              "      padding: 0 0 0 0;\n",
              "      width: 32px;\n",
              "    }\n",
              "\n",
              "    .colab-df-convert:hover {\n",
              "      background-color: #E2EBFA;\n",
              "      box-shadow: 0px 1px 2px rgba(60, 64, 67, 0.3), 0px 1px 3px 1px rgba(60, 64, 67, 0.15);\n",
              "      fill: #174EA6;\n",
              "    }\n",
              "\n",
              "    [theme=dark] .colab-df-convert {\n",
              "      background-color: #3B4455;\n",
              "      fill: #D2E3FC;\n",
              "    }\n",
              "\n",
              "    [theme=dark] .colab-df-convert:hover {\n",
              "      background-color: #434B5C;\n",
              "      box-shadow: 0px 1px 3px 1px rgba(0, 0, 0, 0.15);\n",
              "      filter: drop-shadow(0px 1px 2px rgba(0, 0, 0, 0.3));\n",
              "      fill: #FFFFFF;\n",
              "    }\n",
              "  </style>\n",
              "\n",
              "      <script>\n",
              "        const buttonEl =\n",
              "          document.querySelector('#df-faba4c9c-d9c7-4297-b841-ada48161a754 button.colab-df-convert');\n",
              "        buttonEl.style.display =\n",
              "          google.colab.kernel.accessAllowed ? 'block' : 'none';\n",
              "\n",
              "        async function convertToInteractive(key) {\n",
              "          const element = document.querySelector('#df-faba4c9c-d9c7-4297-b841-ada48161a754');\n",
              "          const dataTable =\n",
              "            await google.colab.kernel.invokeFunction('convertToInteractive',\n",
              "                                                     [key], {});\n",
              "          if (!dataTable) return;\n",
              "\n",
              "          const docLinkHtml = 'Like what you see? Visit the ' +\n",
              "            '<a target=\"_blank\" href=https://colab.research.google.com/notebooks/data_table.ipynb>data table notebook</a>'\n",
              "            + ' to learn more about interactive tables.';\n",
              "          element.innerHTML = '';\n",
              "          dataTable['output_type'] = 'display_data';\n",
              "          await google.colab.output.renderOutput(dataTable, element);\n",
              "          const docLink = document.createElement('div');\n",
              "          docLink.innerHTML = docLinkHtml;\n",
              "          element.appendChild(docLink);\n",
              "        }\n",
              "      </script>\n",
              "    </div>\n",
              "  </div>\n",
              "  "
            ]
          },
          "metadata": {},
          "execution_count": 49
        }
      ]
    },
    {
      "cell_type": "markdown",
      "source": [
        "#MACHINE LEARNIG CLASIFICACION PREDICCION\n",
        "VARIABLES ASSETS VS WBL INDEX"
      ],
      "metadata": {
        "id": "RXZnafzfqJhw"
      }
    },
    {
      "cell_type": "code",
      "source": [
        "from sklearn.svm import SVC\n",
        "from sklearn.model_selection import train_test_split\n",
        "from sklearn.metrics import accuracy_score\n",
        "\n",
        "# Configuración warnings\n",
        "# ==============================================================================\n",
        "import warnings\n",
        "warnings.filterwarnings('ignore')"
      ],
      "metadata": {
        "id": "Y9dxn7KVqNn-"
      },
      "execution_count": 35,
      "outputs": []
    },
    {
      "cell_type": "code",
      "source": [
        "X = df1[['WBL INDEX']]\n",
        "y = df1['ASSETS']"
      ],
      "metadata": {
        "id": "NDNrMVMJqc9w"
      },
      "execution_count": 50,
      "outputs": []
    },
    {
      "cell_type": "code",
      "source": [
        "y"
      ],
      "metadata": {
        "colab": {
          "base_uri": "https://localhost:8080/"
        },
        "id": "BPwXu7slqjQq",
        "outputId": "903a35f7-564e-40c9-e042-133de40ace21"
      },
      "execution_count": 51,
      "outputs": [
        {
          "output_type": "execute_result",
          "data": {
            "text/plain": [
              "0         40\n",
              "1         40\n",
              "2         40\n",
              "3         40\n",
              "4         40\n",
              "        ... \n",
              "10065    100\n",
              "10066    100\n",
              "10067    100\n",
              "10068    100\n",
              "10069    100\n",
              "Name: ASSETS, Length: 10070, dtype: int64"
            ]
          },
          "metadata": {},
          "execution_count": 51
        }
      ]
    },
    {
      "cell_type": "code",
      "source": [
        " y.values.reshape(-1,1)"
      ],
      "metadata": {
        "colab": {
          "base_uri": "https://localhost:8080/"
        },
        "id": "kC_ECK3qqnDt",
        "outputId": "77e81954-db21-4eac-e926-361dd38bfabc"
      },
      "execution_count": 52,
      "outputs": [
        {
          "output_type": "execute_result",
          "data": {
            "text/plain": [
              "array([[ 40],\n",
              "       [ 40],\n",
              "       [ 40],\n",
              "       ...,\n",
              "       [100],\n",
              "       [100],\n",
              "       [100]])"
            ]
          },
          "metadata": {},
          "execution_count": 52
        }
      ]
    },
    {
      "cell_type": "code",
      "source": [
        "X_train, X_test, y_train, y_test = train_test_split(X,y.values.reshape(-1,1),train_size= 0.75,\\\n",
        "                                                    random_state = 42,shuffle=True)"
      ],
      "metadata": {
        "id": "DNJCfMdm_3DC"
      },
      "execution_count": 53,
      "outputs": []
    },
    {
      "cell_type": "code",
      "source": [
        "SVC?"
      ],
      "metadata": {
        "id": "6kn1qth1_-8f"
      },
      "execution_count": 54,
      "outputs": []
    },
    {
      "cell_type": "code",
      "source": [
        "modelo = SVC(C=0.1,kernel='sigmoid',random_state=42, verbose= True)\n",
        "modelo.fit(X_train, y_train)"
      ],
      "metadata": {
        "colab": {
          "base_uri": "https://localhost:8080/",
          "height": 93
        },
        "id": "Hj_MSHXWAA84",
        "outputId": "3865b1e0-98cf-4298-f62f-d49c4de0d196"
      },
      "execution_count": 55,
      "outputs": [
        {
          "output_type": "stream",
          "name": "stdout",
          "text": [
            "[LibSVM]"
          ]
        },
        {
          "output_type": "execute_result",
          "data": {
            "text/plain": [
              "SVC(C=0.1, kernel='sigmoid', random_state=42, verbose=True)"
            ],
            "text/html": [
              "<style>#sk-container-id-4 {color: black;background-color: white;}#sk-container-id-4 pre{padding: 0;}#sk-container-id-4 div.sk-toggleable {background-color: white;}#sk-container-id-4 label.sk-toggleable__label {cursor: pointer;display: block;width: 100%;margin-bottom: 0;padding: 0.3em;box-sizing: border-box;text-align: center;}#sk-container-id-4 label.sk-toggleable__label-arrow:before {content: \"▸\";float: left;margin-right: 0.25em;color: #696969;}#sk-container-id-4 label.sk-toggleable__label-arrow:hover:before {color: black;}#sk-container-id-4 div.sk-estimator:hover label.sk-toggleable__label-arrow:before {color: black;}#sk-container-id-4 div.sk-toggleable__content {max-height: 0;max-width: 0;overflow: hidden;text-align: left;background-color: #f0f8ff;}#sk-container-id-4 div.sk-toggleable__content pre {margin: 0.2em;color: black;border-radius: 0.25em;background-color: #f0f8ff;}#sk-container-id-4 input.sk-toggleable__control:checked~div.sk-toggleable__content {max-height: 200px;max-width: 100%;overflow: auto;}#sk-container-id-4 input.sk-toggleable__control:checked~label.sk-toggleable__label-arrow:before {content: \"▾\";}#sk-container-id-4 div.sk-estimator input.sk-toggleable__control:checked~label.sk-toggleable__label {background-color: #d4ebff;}#sk-container-id-4 div.sk-label input.sk-toggleable__control:checked~label.sk-toggleable__label {background-color: #d4ebff;}#sk-container-id-4 input.sk-hidden--visually {border: 0;clip: rect(1px 1px 1px 1px);clip: rect(1px, 1px, 1px, 1px);height: 1px;margin: -1px;overflow: hidden;padding: 0;position: absolute;width: 1px;}#sk-container-id-4 div.sk-estimator {font-family: monospace;background-color: #f0f8ff;border: 1px dotted black;border-radius: 0.25em;box-sizing: border-box;margin-bottom: 0.5em;}#sk-container-id-4 div.sk-estimator:hover {background-color: #d4ebff;}#sk-container-id-4 div.sk-parallel-item::after {content: \"\";width: 100%;border-bottom: 1px solid gray;flex-grow: 1;}#sk-container-id-4 div.sk-label:hover label.sk-toggleable__label {background-color: #d4ebff;}#sk-container-id-4 div.sk-serial::before {content: \"\";position: absolute;border-left: 1px solid gray;box-sizing: border-box;top: 0;bottom: 0;left: 50%;z-index: 0;}#sk-container-id-4 div.sk-serial {display: flex;flex-direction: column;align-items: center;background-color: white;padding-right: 0.2em;padding-left: 0.2em;position: relative;}#sk-container-id-4 div.sk-item {position: relative;z-index: 1;}#sk-container-id-4 div.sk-parallel {display: flex;align-items: stretch;justify-content: center;background-color: white;position: relative;}#sk-container-id-4 div.sk-item::before, #sk-container-id-4 div.sk-parallel-item::before {content: \"\";position: absolute;border-left: 1px solid gray;box-sizing: border-box;top: 0;bottom: 0;left: 50%;z-index: -1;}#sk-container-id-4 div.sk-parallel-item {display: flex;flex-direction: column;z-index: 1;position: relative;background-color: white;}#sk-container-id-4 div.sk-parallel-item:first-child::after {align-self: flex-end;width: 50%;}#sk-container-id-4 div.sk-parallel-item:last-child::after {align-self: flex-start;width: 50%;}#sk-container-id-4 div.sk-parallel-item:only-child::after {width: 0;}#sk-container-id-4 div.sk-dashed-wrapped {border: 1px dashed gray;margin: 0 0.4em 0.5em 0.4em;box-sizing: border-box;padding-bottom: 0.4em;background-color: white;}#sk-container-id-4 div.sk-label label {font-family: monospace;font-weight: bold;display: inline-block;line-height: 1.2em;}#sk-container-id-4 div.sk-label-container {text-align: center;}#sk-container-id-4 div.sk-container {/* jupyter's `normalize.less` sets `[hidden] { display: none; }` but bootstrap.min.css set `[hidden] { display: none !important; }` so we also need the `!important` here to be able to override the default hidden behavior on the sphinx rendered scikit-learn.org. See: https://github.com/scikit-learn/scikit-learn/issues/21755 */display: inline-block !important;position: relative;}#sk-container-id-4 div.sk-text-repr-fallback {display: none;}</style><div id=\"sk-container-id-4\" class=\"sk-top-container\"><div class=\"sk-text-repr-fallback\"><pre>SVC(C=0.1, kernel=&#x27;sigmoid&#x27;, random_state=42, verbose=True)</pre><b>In a Jupyter environment, please rerun this cell to show the HTML representation or trust the notebook. <br />On GitHub, the HTML representation is unable to render, please try loading this page with nbviewer.org.</b></div><div class=\"sk-container\" hidden><div class=\"sk-item\"><div class=\"sk-estimator sk-toggleable\"><input class=\"sk-toggleable__control sk-hidden--visually\" id=\"sk-estimator-id-4\" type=\"checkbox\" checked><label for=\"sk-estimator-id-4\" class=\"sk-toggleable__label sk-toggleable__label-arrow\">SVC</label><div class=\"sk-toggleable__content\"><pre>SVC(C=0.1, kernel=&#x27;sigmoid&#x27;, random_state=42, verbose=True)</pre></div></div></div></div></div>"
            ]
          },
          "metadata": {},
          "execution_count": 55
        }
      ]
    },
    {
      "cell_type": "code",
      "source": [
        "y_test_pred = modelo.predict(X_test)"
      ],
      "metadata": {
        "id": "Z_ciN52JBLTB"
      },
      "execution_count": 56,
      "outputs": []
    },
    {
      "cell_type": "code",
      "source": [
        "X_test"
      ],
      "metadata": {
        "colab": {
          "base_uri": "https://localhost:8080/",
          "height": 424
        },
        "id": "2GKG77fKBPLJ",
        "outputId": "c6f7933c-cbc3-45bc-8766-e37fbd06deb6"
      },
      "execution_count": 57,
      "outputs": [
        {
          "output_type": "execute_result",
          "data": {
            "text/plain": [
              "      WBL INDEX\n",
              "1121     22.500\n",
              "318      55.625\n",
              "9133     50.000\n",
              "1149     61.250\n",
              "33       26.250\n",
              "...         ...\n",
              "1139     38.125\n",
              "7754     67.500\n",
              "2231     63.125\n",
              "2164     81.250\n",
              "3070     97.500\n",
              "\n",
              "[2518 rows x 1 columns]"
            ],
            "text/html": [
              "\n",
              "\n",
              "  <div id=\"df-398a752e-88f0-4a98-bfe6-c5ae267f4522\">\n",
              "    <div class=\"colab-df-container\">\n",
              "      <div>\n",
              "<style scoped>\n",
              "    .dataframe tbody tr th:only-of-type {\n",
              "        vertical-align: middle;\n",
              "    }\n",
              "\n",
              "    .dataframe tbody tr th {\n",
              "        vertical-align: top;\n",
              "    }\n",
              "\n",
              "    .dataframe thead th {\n",
              "        text-align: right;\n",
              "    }\n",
              "</style>\n",
              "<table border=\"1\" class=\"dataframe\">\n",
              "  <thead>\n",
              "    <tr style=\"text-align: right;\">\n",
              "      <th></th>\n",
              "      <th>WBL INDEX</th>\n",
              "    </tr>\n",
              "  </thead>\n",
              "  <tbody>\n",
              "    <tr>\n",
              "      <th>1121</th>\n",
              "      <td>22.500</td>\n",
              "    </tr>\n",
              "    <tr>\n",
              "      <th>318</th>\n",
              "      <td>55.625</td>\n",
              "    </tr>\n",
              "    <tr>\n",
              "      <th>9133</th>\n",
              "      <td>50.000</td>\n",
              "    </tr>\n",
              "    <tr>\n",
              "      <th>1149</th>\n",
              "      <td>61.250</td>\n",
              "    </tr>\n",
              "    <tr>\n",
              "      <th>33</th>\n",
              "      <td>26.250</td>\n",
              "    </tr>\n",
              "    <tr>\n",
              "      <th>...</th>\n",
              "      <td>...</td>\n",
              "    </tr>\n",
              "    <tr>\n",
              "      <th>1139</th>\n",
              "      <td>38.125</td>\n",
              "    </tr>\n",
              "    <tr>\n",
              "      <th>7754</th>\n",
              "      <td>67.500</td>\n",
              "    </tr>\n",
              "    <tr>\n",
              "      <th>2231</th>\n",
              "      <td>63.125</td>\n",
              "    </tr>\n",
              "    <tr>\n",
              "      <th>2164</th>\n",
              "      <td>81.250</td>\n",
              "    </tr>\n",
              "    <tr>\n",
              "      <th>3070</th>\n",
              "      <td>97.500</td>\n",
              "    </tr>\n",
              "  </tbody>\n",
              "</table>\n",
              "<p>2518 rows × 1 columns</p>\n",
              "</div>\n",
              "      <button class=\"colab-df-convert\" onclick=\"convertToInteractive('df-398a752e-88f0-4a98-bfe6-c5ae267f4522')\"\n",
              "              title=\"Convert this dataframe to an interactive table.\"\n",
              "              style=\"display:none;\">\n",
              "\n",
              "  <svg xmlns=\"http://www.w3.org/2000/svg\" height=\"24px\"viewBox=\"0 0 24 24\"\n",
              "       width=\"24px\">\n",
              "    <path d=\"M0 0h24v24H0V0z\" fill=\"none\"/>\n",
              "    <path d=\"M18.56 5.44l.94 2.06.94-2.06 2.06-.94-2.06-.94-.94-2.06-.94 2.06-2.06.94zm-11 1L8.5 8.5l.94-2.06 2.06-.94-2.06-.94L8.5 2.5l-.94 2.06-2.06.94zm10 10l.94 2.06.94-2.06 2.06-.94-2.06-.94-.94-2.06-.94 2.06-2.06.94z\"/><path d=\"M17.41 7.96l-1.37-1.37c-.4-.4-.92-.59-1.43-.59-.52 0-1.04.2-1.43.59L10.3 9.45l-7.72 7.72c-.78.78-.78 2.05 0 2.83L4 21.41c.39.39.9.59 1.41.59.51 0 1.02-.2 1.41-.59l7.78-7.78 2.81-2.81c.8-.78.8-2.07 0-2.86zM5.41 20L4 18.59l7.72-7.72 1.47 1.35L5.41 20z\"/>\n",
              "  </svg>\n",
              "      </button>\n",
              "\n",
              "\n",
              "\n",
              "    <div id=\"df-a0faae6d-ecb9-4950-be10-32b690c278e2\">\n",
              "      <button class=\"colab-df-quickchart\" onclick=\"quickchart('df-a0faae6d-ecb9-4950-be10-32b690c278e2')\"\n",
              "              title=\"Suggest charts.\"\n",
              "              style=\"display:none;\">\n",
              "\n",
              "<svg xmlns=\"http://www.w3.org/2000/svg\" height=\"24px\"viewBox=\"0 0 24 24\"\n",
              "     width=\"24px\">\n",
              "    <g>\n",
              "        <path d=\"M19 3H5c-1.1 0-2 .9-2 2v14c0 1.1.9 2 2 2h14c1.1 0 2-.9 2-2V5c0-1.1-.9-2-2-2zM9 17H7v-7h2v7zm4 0h-2V7h2v10zm4 0h-2v-4h2v4z\"/>\n",
              "    </g>\n",
              "</svg>\n",
              "      </button>\n",
              "    </div>\n",
              "\n",
              "<style>\n",
              "  .colab-df-quickchart {\n",
              "    background-color: #E8F0FE;\n",
              "    border: none;\n",
              "    border-radius: 50%;\n",
              "    cursor: pointer;\n",
              "    display: none;\n",
              "    fill: #1967D2;\n",
              "    height: 32px;\n",
              "    padding: 0 0 0 0;\n",
              "    width: 32px;\n",
              "  }\n",
              "\n",
              "  .colab-df-quickchart:hover {\n",
              "    background-color: #E2EBFA;\n",
              "    box-shadow: 0px 1px 2px rgba(60, 64, 67, 0.3), 0px 1px 3px 1px rgba(60, 64, 67, 0.15);\n",
              "    fill: #174EA6;\n",
              "  }\n",
              "\n",
              "  [theme=dark] .colab-df-quickchart {\n",
              "    background-color: #3B4455;\n",
              "    fill: #D2E3FC;\n",
              "  }\n",
              "\n",
              "  [theme=dark] .colab-df-quickchart:hover {\n",
              "    background-color: #434B5C;\n",
              "    box-shadow: 0px 1px 3px 1px rgba(0, 0, 0, 0.15);\n",
              "    filter: drop-shadow(0px 1px 2px rgba(0, 0, 0, 0.3));\n",
              "    fill: #FFFFFF;\n",
              "  }\n",
              "</style>\n",
              "\n",
              "    <script>\n",
              "      async function quickchart(key) {\n",
              "        const containerElement = document.querySelector('#' + key);\n",
              "        const charts = await google.colab.kernel.invokeFunction(\n",
              "            'suggestCharts', [key], {});\n",
              "      }\n",
              "    </script>\n",
              "\n",
              "      <script>\n",
              "\n",
              "function displayQuickchartButton(domScope) {\n",
              "  let quickchartButtonEl =\n",
              "    domScope.querySelector('#df-a0faae6d-ecb9-4950-be10-32b690c278e2 button.colab-df-quickchart');\n",
              "  quickchartButtonEl.style.display =\n",
              "    google.colab.kernel.accessAllowed ? 'block' : 'none';\n",
              "}\n",
              "\n",
              "        displayQuickchartButton(document);\n",
              "      </script>\n",
              "      <style>\n",
              "    .colab-df-container {\n",
              "      display:flex;\n",
              "      flex-wrap:wrap;\n",
              "      gap: 12px;\n",
              "    }\n",
              "\n",
              "    .colab-df-convert {\n",
              "      background-color: #E8F0FE;\n",
              "      border: none;\n",
              "      border-radius: 50%;\n",
              "      cursor: pointer;\n",
              "      display: none;\n",
              "      fill: #1967D2;\n",
              "      height: 32px;\n",
              "      padding: 0 0 0 0;\n",
              "      width: 32px;\n",
              "    }\n",
              "\n",
              "    .colab-df-convert:hover {\n",
              "      background-color: #E2EBFA;\n",
              "      box-shadow: 0px 1px 2px rgba(60, 64, 67, 0.3), 0px 1px 3px 1px rgba(60, 64, 67, 0.15);\n",
              "      fill: #174EA6;\n",
              "    }\n",
              "\n",
              "    [theme=dark] .colab-df-convert {\n",
              "      background-color: #3B4455;\n",
              "      fill: #D2E3FC;\n",
              "    }\n",
              "\n",
              "    [theme=dark] .colab-df-convert:hover {\n",
              "      background-color: #434B5C;\n",
              "      box-shadow: 0px 1px 3px 1px rgba(0, 0, 0, 0.15);\n",
              "      filter: drop-shadow(0px 1px 2px rgba(0, 0, 0, 0.3));\n",
              "      fill: #FFFFFF;\n",
              "    }\n",
              "  </style>\n",
              "\n",
              "      <script>\n",
              "        const buttonEl =\n",
              "          document.querySelector('#df-398a752e-88f0-4a98-bfe6-c5ae267f4522 button.colab-df-convert');\n",
              "        buttonEl.style.display =\n",
              "          google.colab.kernel.accessAllowed ? 'block' : 'none';\n",
              "\n",
              "        async function convertToInteractive(key) {\n",
              "          const element = document.querySelector('#df-398a752e-88f0-4a98-bfe6-c5ae267f4522');\n",
              "          const dataTable =\n",
              "            await google.colab.kernel.invokeFunction('convertToInteractive',\n",
              "                                                     [key], {});\n",
              "          if (!dataTable) return;\n",
              "\n",
              "          const docLinkHtml = 'Like what you see? Visit the ' +\n",
              "            '<a target=\"_blank\" href=https://colab.research.google.com/notebooks/data_table.ipynb>data table notebook</a>'\n",
              "            + ' to learn more about interactive tables.';\n",
              "          element.innerHTML = '';\n",
              "          dataTable['output_type'] = 'display_data';\n",
              "          await google.colab.output.renderOutput(dataTable, element);\n",
              "          const docLink = document.createElement('div');\n",
              "          docLink.innerHTML = docLinkHtml;\n",
              "          element.appendChild(docLink);\n",
              "        }\n",
              "      </script>\n",
              "    </div>\n",
              "  </div>\n"
            ]
          },
          "metadata": {},
          "execution_count": 57
        }
      ]
    },
    {
      "cell_type": "code",
      "source": [
        "y_test_pred"
      ],
      "metadata": {
        "colab": {
          "base_uri": "https://localhost:8080/"
        },
        "id": "-n_N2ZhMBTeO",
        "outputId": "e2995550-0123-48b6-d28b-c2285cd3006f"
      },
      "execution_count": 44,
      "outputs": [
        {
          "output_type": "execute_result",
          "data": {
            "text/plain": [
              "array([100, 100, 100, ..., 100, 100, 100])"
            ]
          },
          "metadata": {},
          "execution_count": 44
        }
      ]
    },
    {
      "cell_type": "code",
      "source": [
        "from sklearn.tree import DecisionTreeClassifier\n",
        "arbol_de_decision = DecisionTreeClassifier(max_depth=4, random_state = 42)"
      ],
      "metadata": {
        "id": "O8snWi9uBYBy"
      },
      "execution_count": 64,
      "outputs": []
    },
    {
      "cell_type": "code",
      "source": [
        "arbol_de_decision.fit(X_train,y_train)"
      ],
      "metadata": {
        "colab": {
          "base_uri": "https://localhost:8080/",
          "height": 75
        },
        "id": "Fdr-l44tBgFr",
        "outputId": "14d765e4-89f6-4771-866a-b9be20ae585f"
      },
      "execution_count": 65,
      "outputs": [
        {
          "output_type": "execute_result",
          "data": {
            "text/plain": [
              "DecisionTreeClassifier(max_depth=4, random_state=42)"
            ],
            "text/html": [
              "<style>#sk-container-id-6 {color: black;background-color: white;}#sk-container-id-6 pre{padding: 0;}#sk-container-id-6 div.sk-toggleable {background-color: white;}#sk-container-id-6 label.sk-toggleable__label {cursor: pointer;display: block;width: 100%;margin-bottom: 0;padding: 0.3em;box-sizing: border-box;text-align: center;}#sk-container-id-6 label.sk-toggleable__label-arrow:before {content: \"▸\";float: left;margin-right: 0.25em;color: #696969;}#sk-container-id-6 label.sk-toggleable__label-arrow:hover:before {color: black;}#sk-container-id-6 div.sk-estimator:hover label.sk-toggleable__label-arrow:before {color: black;}#sk-container-id-6 div.sk-toggleable__content {max-height: 0;max-width: 0;overflow: hidden;text-align: left;background-color: #f0f8ff;}#sk-container-id-6 div.sk-toggleable__content pre {margin: 0.2em;color: black;border-radius: 0.25em;background-color: #f0f8ff;}#sk-container-id-6 input.sk-toggleable__control:checked~div.sk-toggleable__content {max-height: 200px;max-width: 100%;overflow: auto;}#sk-container-id-6 input.sk-toggleable__control:checked~label.sk-toggleable__label-arrow:before {content: \"▾\";}#sk-container-id-6 div.sk-estimator input.sk-toggleable__control:checked~label.sk-toggleable__label {background-color: #d4ebff;}#sk-container-id-6 div.sk-label input.sk-toggleable__control:checked~label.sk-toggleable__label {background-color: #d4ebff;}#sk-container-id-6 input.sk-hidden--visually {border: 0;clip: rect(1px 1px 1px 1px);clip: rect(1px, 1px, 1px, 1px);height: 1px;margin: -1px;overflow: hidden;padding: 0;position: absolute;width: 1px;}#sk-container-id-6 div.sk-estimator {font-family: monospace;background-color: #f0f8ff;border: 1px dotted black;border-radius: 0.25em;box-sizing: border-box;margin-bottom: 0.5em;}#sk-container-id-6 div.sk-estimator:hover {background-color: #d4ebff;}#sk-container-id-6 div.sk-parallel-item::after {content: \"\";width: 100%;border-bottom: 1px solid gray;flex-grow: 1;}#sk-container-id-6 div.sk-label:hover label.sk-toggleable__label {background-color: #d4ebff;}#sk-container-id-6 div.sk-serial::before {content: \"\";position: absolute;border-left: 1px solid gray;box-sizing: border-box;top: 0;bottom: 0;left: 50%;z-index: 0;}#sk-container-id-6 div.sk-serial {display: flex;flex-direction: column;align-items: center;background-color: white;padding-right: 0.2em;padding-left: 0.2em;position: relative;}#sk-container-id-6 div.sk-item {position: relative;z-index: 1;}#sk-container-id-6 div.sk-parallel {display: flex;align-items: stretch;justify-content: center;background-color: white;position: relative;}#sk-container-id-6 div.sk-item::before, #sk-container-id-6 div.sk-parallel-item::before {content: \"\";position: absolute;border-left: 1px solid gray;box-sizing: border-box;top: 0;bottom: 0;left: 50%;z-index: -1;}#sk-container-id-6 div.sk-parallel-item {display: flex;flex-direction: column;z-index: 1;position: relative;background-color: white;}#sk-container-id-6 div.sk-parallel-item:first-child::after {align-self: flex-end;width: 50%;}#sk-container-id-6 div.sk-parallel-item:last-child::after {align-self: flex-start;width: 50%;}#sk-container-id-6 div.sk-parallel-item:only-child::after {width: 0;}#sk-container-id-6 div.sk-dashed-wrapped {border: 1px dashed gray;margin: 0 0.4em 0.5em 0.4em;box-sizing: border-box;padding-bottom: 0.4em;background-color: white;}#sk-container-id-6 div.sk-label label {font-family: monospace;font-weight: bold;display: inline-block;line-height: 1.2em;}#sk-container-id-6 div.sk-label-container {text-align: center;}#sk-container-id-6 div.sk-container {/* jupyter's `normalize.less` sets `[hidden] { display: none; }` but bootstrap.min.css set `[hidden] { display: none !important; }` so we also need the `!important` here to be able to override the default hidden behavior on the sphinx rendered scikit-learn.org. See: https://github.com/scikit-learn/scikit-learn/issues/21755 */display: inline-block !important;position: relative;}#sk-container-id-6 div.sk-text-repr-fallback {display: none;}</style><div id=\"sk-container-id-6\" class=\"sk-top-container\"><div class=\"sk-text-repr-fallback\"><pre>DecisionTreeClassifier(max_depth=4, random_state=42)</pre><b>In a Jupyter environment, please rerun this cell to show the HTML representation or trust the notebook. <br />On GitHub, the HTML representation is unable to render, please try loading this page with nbviewer.org.</b></div><div class=\"sk-container\" hidden><div class=\"sk-item\"><div class=\"sk-estimator sk-toggleable\"><input class=\"sk-toggleable__control sk-hidden--visually\" id=\"sk-estimator-id-6\" type=\"checkbox\" checked><label for=\"sk-estimator-id-6\" class=\"sk-toggleable__label sk-toggleable__label-arrow\">DecisionTreeClassifier</label><div class=\"sk-toggleable__content\"><pre>DecisionTreeClassifier(max_depth=4, random_state=42)</pre></div></div></div></div></div>"
            ]
          },
          "metadata": {},
          "execution_count": 65
        }
      ]
    },
    {
      "cell_type": "markdown",
      "source": [
        "Accuracy"
      ],
      "metadata": {
        "id": "1RQ-IGeMACgZ"
      }
    },
    {
      "cell_type": "code",
      "source": [
        "from sklearn.metrics import accuracy_score\n",
        "test_accuracy = accuracy_score(y_test, y_test_pred)\n",
        "print('% de aciertos sobre el set de evaluación:',test_accuracy)"
      ],
      "metadata": {
        "colab": {
          "base_uri": "https://localhost:8080/"
        },
        "id": "jMZHtHGdBXld",
        "outputId": "e309e636-c5e5-4741-e0b9-3c61a70909f5"
      },
      "execution_count": 66,
      "outputs": [
        {
          "output_type": "stream",
          "name": "stdout",
          "text": [
            "% de aciertos sobre el set de evaluación: 0.4765687053216839\n"
          ]
        }
      ]
    },
    {
      "cell_type": "markdown",
      "source": [
        "Matriz de confusion"
      ],
      "metadata": {
        "id": "OQo781M1AQDT"
      }
    },
    {
      "cell_type": "code",
      "source": [
        "from sklearn.metrics import confusion_matrix\n",
        "confusion_matrix(y_test, y_test_pred)"
      ],
      "metadata": {
        "colab": {
          "base_uri": "https://localhost:8080/"
        },
        "id": "P0yHvojBAJBE",
        "outputId": "2d73b4c4-4ba0-41ff-d05b-c8032d318e8d"
      },
      "execution_count": 67,
      "outputs": [
        {
          "output_type": "execute_result",
          "data": {
            "text/plain": [
              "array([[   0,    0,    0,    0,    0,  103],\n",
              "       [   0,    0,    0,    0,    0,   60],\n",
              "       [   0,    0,    0,    0,    0,  494],\n",
              "       [   0,    0,    0,    0,    0,  367],\n",
              "       [   0,    0,    0,    0,    0,  294],\n",
              "       [   0,    0,    0,    0,    0, 1200]])"
            ]
          },
          "metadata": {},
          "execution_count": 67
        }
      ]
    },
    {
      "cell_type": "markdown",
      "source": [
        "Clasificacion"
      ],
      "metadata": {
        "id": "R9BN2omtBwmM"
      }
    },
    {
      "cell_type": "code",
      "source": [
        "from sklearn.metrics import classification_report\n",
        "print(classification_report(y_test,y_test_pred))"
      ],
      "metadata": {
        "colab": {
          "base_uri": "https://localhost:8080/"
        },
        "id": "CZKn_s6mA6PC",
        "outputId": "4077462f-3904-42eb-e66f-93f4c00e9ab9"
      },
      "execution_count": 68,
      "outputs": [
        {
          "output_type": "stream",
          "name": "stdout",
          "text": [
            "              precision    recall  f1-score   support\n",
            "\n",
            "           0       0.00      0.00      0.00       103\n",
            "          20       0.00      0.00      0.00        60\n",
            "          40       0.00      0.00      0.00       494\n",
            "          60       0.00      0.00      0.00       367\n",
            "          80       0.00      0.00      0.00       294\n",
            "         100       0.48      1.00      0.65      1200\n",
            "\n",
            "    accuracy                           0.48      2518\n",
            "   macro avg       0.08      0.17      0.11      2518\n",
            "weighted avg       0.23      0.48      0.31      2518\n",
            "\n"
          ]
        }
      ]
    },
    {
      "cell_type": "markdown",
      "source": [
        "CURVA ROC"
      ],
      "metadata": {
        "id": "RDP18wR0B4eV"
      }
    },
    {
      "cell_type": "code",
      "source": [
        "from sklearn.metrics import roc_curve, roc_auc_score\n",
        "import matplotlib.pyplot as plt\n",
        "\n",
        "y_score1 = arbol_de_decision.predict_proba(X_test)[:,1]\n",
        "y_score1"
      ],
      "metadata": {
        "colab": {
          "base_uri": "https://localhost:8080/"
        },
        "id": "erfywwJbA-x7",
        "outputId": "490f9d62-70f9-47b6-898b-dc00ca0d65e1"
      },
      "execution_count": 69,
      "outputs": [
        {
          "output_type": "execute_result",
          "data": {
            "text/plain": [
              "array([0.53448276, 0.02413793, 0.04485488, ..., 0.00733945, 0.        ,\n",
              "       0.        ])"
            ]
          },
          "metadata": {},
          "execution_count": 69
        }
      ]
    }
  ],
  "metadata": {
    "colab": {
      "provenance": [],
      "mount_file_id": "1dvs-hbdmAiUsXHKlfF9-mMoqpFQWQ9lU",
      "authorship_tag": "ABX9TyN+BCZNB5HfI2CHkGMf1Du8",
      "include_colab_link": true
    },
    "kernelspec": {
      "display_name": "Python 3",
      "name": "python3"
    },
    "language_info": {
      "name": "python"
    }
  },
  "nbformat": 4,
  "nbformat_minor": 0
}